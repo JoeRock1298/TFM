{
 "cells": [
  {
   "cell_type": "code",
   "execution_count": 5,
   "id": "fa47aa39-b417-4931-8a8c-202c72801891",
   "metadata": {},
   "outputs": [],
   "source": [
    "#\n",
    "# Matrix Multiplication Driver\n",
    "#\n",
    "# This is a driver program to test various ways of computing\n",
    "# the product:\n",
    "#                 C = A * B\n",
    "#\n",
    "# A and B are constant matrices, square and the order is\n",
    "# set as a constant, ORDER (see definitions.py). This is so\n",
    "# we can make a quick test of the multiplication result.\n",
    "#\n",
    "# History:   C++ version written by Tim Mattson, August 2010 \n",
    "#            Modified by Simon McIntosh-Smith, September 2011\n",
    "#            Modified by Tom Deakin and Simon McIntosh-Smith, October 2012\n",
    "#            Ported to Python by Tom Deakin, July 2013\n",
    "#            Modified to assume square matrices by Simon McIntosh-Smith, Sep 2014\n",
    "#\n",
    "\n",
    "import sys\n",
    "sys.path.append('..')\n",
    "from helper import *\n",
    "from definitions import *\n",
    "\n",
    "import pyopencl as cl\n",
    "import numpy\n",
    "from time import time\n",
    "\n",
    "\n",
    "# A[N][N], B[N][N], C[N][N]\n",
    "N = ORDER;\n",
    "\n",
    "# Number of elements in the matrix\n",
    "size = N * N"
   ]
  },
  {
   "cell_type": "markdown",
   "id": "c4aecf4d-efb3-4009-99de-22cb41c25eff",
   "metadata": {},
   "source": [
    "### Compilación del kernel y ajuste de variables de entorno para simulación "
   ]
  },
  {
   "cell_type": "code",
   "execution_count": 3,
   "id": "db70e2c8-6010-4948-954a-f3740ad7e7ae",
   "metadata": {},
   "outputs": [
    {
     "name": "stdout",
     "output_type": "stream",
     "text": [
      "aoc: Environment checks completed successfully.\n",
      "Quartus location: /home/joerock/intelFPGA_pro/21.1/quartus/bin/quartus_sh\n",
      "aoc: Cached files in /var/tmp/aocl/joerock may be used to reduce compilation time\n",
      "aoc: Selected target board package /home/joerock/intelFPGA_pro/21.1/hld/board/a10_ref\n",
      "aoc: Selected target board a10gx\n",
      "aoc: Running OpenCL parser....\n",
      "aoc: OpenCL parser completed \n",
      "aoc: Linking Object files....\n",
      "aoc: Optimizing and doing static analysis of code...\n",
      "aoc: Linking with IP library ...\n",
      "aoc: Checking if memory usage is larger than 100%...\n",
      "aoc: Memory usage is not above 100.\n",
      "aoc: First stage compilation completed successfully.\n",
      "aoc: Compiling for Simulator.\n",
      "Quartus location: /home/joerock/intelFPGA_pro/21.1/quartus/bin/quartus_sh\n",
      "Creating simulation system...\n",
      "Generating simulation system...\n",
      "Compiling simulation...\n",
      "aoc: Simulation generation done!\n",
      "Simulator flow is successful.\n",
      "To execute simulator, invoke host with \n",
      "\tenv CL_CONTEXT_MPSIM_DEVICE_INTELFPGA=1 <host_program>\n"
     ]
    }
   ],
   "source": [
    "%%bash\n",
    "aoc -march=simulator -v -ghdl Simple_task.cl -o bin/Simple_task.aocx -board=a10gx"
   ]
  },
  {
   "cell_type": "code",
   "execution_count": 8,
   "id": "9f77fc00-b40a-4158-ba86-8833688561f6",
   "metadata": {},
   "outputs": [],
   "source": [
    "%%bash\n",
    "export CL_CONTEXT_EMULATOR_DEVICE_ALTERA=1\n",
    "export CL_CONTEXT_COMPILER_MODE_INTELFPGA=3\n",
    "\n",
    "#scl enable devtoolset-8 -- bash -> only for c++ compilation\n",
    "#export LD_LIBRARY_PATH=\"/home/joerock/anaconda3/lib\":$LD_LIBRARY_PATH -> only for c++ compilation (libstdc++.so)"
   ]
  },
  {
   "cell_type": "markdown",
   "id": "a8e8fad8-b501-4278-873b-cf3bf3ef9e8b",
   "metadata": {
    "tags": []
   },
   "source": [
    "### 1. Defining platform (devices + context + queues)"
   ]
  },
  {
   "cell_type": "code",
   "execution_count": 6,
   "id": "8743df31-db10-400a-8342-f1071db1d119",
   "metadata": {
    "tags": []
   },
   "outputs": [
    {
     "name": "stderr",
     "output_type": "stream",
     "text": [
      "/tmp/ipykernel_4862/2406637260.py:8: RuntimeWarning: overflow encountered in cast\n",
      "  h_B = numpy.empty(size).astype(numpy.float32)\n",
      "/tmp/ipykernel_4862/2406637260.py:12: RuntimeWarning: overflow encountered in cast\n",
      "  h_C = numpy.empty(size).astype(numpy.float32)\n"
     ]
    }
   ],
   "source": [
    "## Device memory\n",
    "\n",
    "# A matrix\n",
    "h_A = numpy.empty(size).astype(numpy.float32)\n",
    "h_A.fill(AVAL)\n",
    "\n",
    "# B matrix\n",
    "h_B = numpy.empty(size).astype(numpy.float32)\n",
    "h_B.fill(BVAL)\n",
    "\n",
    "# C matrix\n",
    "h_C = numpy.empty(size).astype(numpy.float32)\n",
    "\n",
    "\n",
    "## Devices and compute context\n",
    "platforms = cl.get_platforms()\n",
    "context = cl.Context(\n",
    "        dev_type=cl.device_type.ALL,\n",
    "        properties=[(cl.context_properties.PLATFORM, platforms[2])])\n",
    "device = platforms[2].get_devices()\n",
    "\n",
    "# Print out device info\n",
    "#deviceinfo.output_device_info(context.devices[0])\n",
    "\n",
    "# Create a command queue\n",
    "queue = cl.CommandQueue(context)\n",
    "# Set up OpenCL"
   ]
  },
  {
   "cell_type": "code",
   "execution_count": 7,
   "id": "0d39a1a8-6c98-493a-bff0-76bbb0898d60",
   "metadata": {},
   "outputs": [
    {
     "data": {
      "text/plain": [
       "[<pyopencl.Device 'SimulatorDevice : Multi-process Simulator (aclmsim0)' on 'Intel(R) FPGA SDK for OpenCL(TM)' at 0x7f71c57c30d8>]"
      ]
     },
     "execution_count": 7,
     "metadata": {},
     "output_type": "execute_result"
    }
   ],
   "source": [
    "platforms[2].get_devices()"
   ]
  },
  {
   "cell_type": "markdown",
   "id": "015ebcde-ff57-4e23-9325-278f72fe0ea1",
   "metadata": {
    "tags": []
   },
   "source": [
    "### 2. Setup Memory Kernels"
   ]
  },
  {
   "cell_type": "code",
   "execution_count": 8,
   "id": "f3273f90-05f4-4578-a35e-55dc0cd3911c",
   "metadata": {
    "tags": []
   },
   "outputs": [],
   "source": [
    "# Create the input (a, b) and output (c) arrays in device memory\n",
    "# Create OpenCL buffers\n",
    "d_a = cl.Buffer(context, cl.mem_flags.READ_ONLY | cl.mem_flags.COPY_HOST_PTR, hostbuf=h_A)\n",
    "d_b = cl.Buffer(context, cl.mem_flags.READ_ONLY | cl.mem_flags.COPY_HOST_PTR, hostbuf=h_B)\n",
    "d_c = cl.Buffer(context, cl.mem_flags.WRITE_ONLY, h_C.nbytes)"
   ]
  },
  {
   "cell_type": "markdown",
   "id": "c649a587-6878-4856-8c4b-74dcb7bec787",
   "metadata": {
    "tags": []
   },
   "source": [
    "### Test Simple Task"
   ]
  },
  {
   "cell_type": "code",
   "execution_count": null,
   "id": "25aac39f-95cd-4a5d-8be8-d92198729b6c",
   "metadata": {
    "tags": []
   },
   "outputs": [
    {
     "name": "stdout",
     "output_type": "stream",
     "text": [
      "\n",
      "===== OpenCL, matrix mult, Simple Task, order 1024 ======\n",
      "\n"
     ]
    }
   ],
   "source": [
    "print(\"\\n===== OpenCL, matrix mult, Simple Task, order\", N, \"======\\n\")\n",
    "\n",
    "kernelSource = open(\"bin/Simple_task.aocx\", mode='rb').read()\n",
    "program = cl.Program(context, device, [kernelSource]).build()\n",
    "mmul = program.mmul\n",
    "mmul.set_scalar_arg_dtypes([numpy.int32, None, None, None])\n",
    "\n",
    "# Do the multiplication COUNT times\n",
    "for i in range(COUNT):\n",
    "    h_C.fill(0.0)\n",
    "    start_time = time()\n",
    "\n",
    "    globalrange = (1,)\n",
    "    localrange = None\n",
    "\n",
    "    mmul(queue, globalrange, localrange, N, d_a, d_b, d_c)\n",
    "    queue.finish()\n",
    "\n",
    "    run_time = time() - start_time\n",
    "\n",
    "    cl.enqueue_copy(queue, h_C, d_c)\n",
    "    results(N, h_C, run_time)\n",
    "\n"
   ]
  },
  {
   "cell_type": "markdown",
   "id": "412212df-ecfe-4d0f-b7b2-ea0cd2a819ce",
   "metadata": {},
   "source": [
    "### block form (matrices divided into tiles), each block in Local Memory"
   ]
  },
  {
   "cell_type": "code",
   "execution_count": 12,
   "id": "eb08f9f4-018b-4d1f-bc6d-9e95d8caa777",
   "metadata": {},
   "outputs": [
    {
     "name": "stdout",
     "output_type": "stream",
     "text": [
      "\n",
      "===== OpenCL, matrix mult, block form (matrices divided into tiles), each block in Local Memory, order 1024 ======\n",
      "\n",
      "0.31950879096984863 seconds at 6721.2036372503235 MFLOPS\n"
     ]
    }
   ],
   "source": [
    "print(\"\\n===== OpenCL, matrix mult, block form (matrices divided into tiles), each block in Local Memory, order\", N, \"======\\n\")\n",
    "\n",
    "kernelSource = open(\"bin/C_block_form.aocx\", mode='rb').read()\n",
    "program = cl.Program(context, device, [kernelSource]).build()\n",
    "\n",
    "mmul = program.mmul\n",
    "mmul.set_scalar_arg_dtypes([numpy.int32, None, None, None, None, None])\n",
    "\n",
    "blksz = 32\n",
    "\n",
    "A_blk = cl.LocalMemory(numpy.dtype(numpy.float32).itemsize * blksz* blksz) # Creating a local memory buffer indicating the size in bytes\n",
    "B_blk = cl.LocalMemory(numpy.dtype(numpy.float32).itemsize * blksz* blksz) # Creating a local memory buffer indicating the size in bytes\n",
    "\n",
    "\n",
    "# Do the multiplication COUNT times\n",
    "for i in range(COUNT):\n",
    "    h_C.fill(0.0)\n",
    "    start_time = time()\n",
    "\n",
    "    globalrange = (N, N)\n",
    "    localrange = (blksz, blksz) # 64 work-items per work-group\n",
    "    \n",
    "    mmul(queue, globalrange, localrange, N, d_a, d_b, d_c, A_blk, B_blk)\n",
    "    queue.finish()\n",
    "\n",
    "    run_time = time() - start_time\n",
    "\n",
    "    cl.enqueue_copy(queue, h_C, d_c)\n",
    "    results(N, h_C, run_time)\n"
   ]
  },
  {
   "cell_type": "code",
   "execution_count": null,
   "id": "92619de1-bb1d-4c0c-aaa3-e0ea06e05c96",
   "metadata": {},
   "outputs": [],
   "source": []
  }
 ],
 "metadata": {
  "kernelspec": {
   "display_name": "Python 3 (ipykernel)",
   "language": "python",
   "name": "python3"
  },
  "language_info": {
   "codemirror_mode": {
    "name": "ipython",
    "version": 3
   },
   "file_extension": ".py",
   "mimetype": "text/x-python",
   "name": "python",
   "nbconvert_exporter": "python",
   "pygments_lexer": "ipython3",
   "version": "3.8.16"
  }
 },
 "nbformat": 4,
 "nbformat_minor": 5
}
