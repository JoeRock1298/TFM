{
 "cells": [
  {
   "cell_type": "code",
   "execution_count": 17,
   "id": "fa47aa39-b417-4931-8a8c-202c72801891",
   "metadata": {},
   "outputs": [],
   "source": [
    "#\n",
    "# Matrix Multiplication Driver\n",
    "#\n",
    "# This is a driver program to test various ways of computing\n",
    "# the product:\n",
    "#                 C = A * B\n",
    "#\n",
    "# A and B are constant matrices, square and the order is\n",
    "# set as a constant, ORDER (see definitions.py). This is so\n",
    "# we can make a quick test of the multiplication result.\n",
    "#\n",
    "# History:   C++ version written by Tim Mattson, August 2010 \n",
    "#            Modified by Simon McIntosh-Smith, September 2011\n",
    "#            Modified by Tom Deakin and Simon McIntosh-Smith, October 2012\n",
    "#            Ported to Python by Tom Deakin, July 2013\n",
    "#            Modified to assume square matrices by Simon McIntosh-Smith, Sep 2014\n",
    "#\n",
    "\n",
    "import sys\n",
    "sys.path.append('..')\n",
    "from helper import *\n",
    "from definitions import *\n",
    "\n",
    "import pyopencl as cl\n",
    "import numpy\n",
    "from time import time\n",
    "\n",
    "\n",
    "# A[N][N], B[N][N], C[N][N]\n",
    "N = ORDER;\n",
    "\n",
    "# Number of elements in the matrix\n",
    "size = N * N"
   ]
  },
  {
   "cell_type": "markdown",
   "id": "a8e8fad8-b501-4278-873b-cf3bf3ef9e8b",
   "metadata": {
    "tags": []
   },
   "source": [
    "### 1. Defining platform (devices + context + queues)"
   ]
  },
  {
   "cell_type": "code",
   "execution_count": 19,
   "id": "9f77fc00-b40a-4158-ba86-8833688561f6",
   "metadata": {},
   "outputs": [
    {
     "name": "stdout",
     "output_type": "stream",
     "text": [
      "env: CL_CONTEXT_EMULATOR_DEVICE_ALTERA=1\n",
      "env: CL_CONTEXT_COMPILER_MODE_INTELFPGA=3\n"
     ]
    }
   ],
   "source": [
    "%env CL_CONTEXT_EMULATOR_DEVICE_ALTERA=1\n",
    "%env CL_CONTEXT_COMPILER_MODE_INTELFPGA=3"
   ]
  },
  {
   "cell_type": "code",
   "execution_count": 20,
   "id": "8743df31-db10-400a-8342-f1071db1d119",
   "metadata": {
    "tags": []
   },
   "outputs": [
    {
     "name": "stderr",
     "output_type": "stream",
     "text": [
      "/tmp/ipykernel_19829/2406637260.py:4: RuntimeWarning: overflow encountered in cast\n",
      "  h_A = numpy.empty(size).astype(numpy.float32)\n",
      "/tmp/ipykernel_19829/2406637260.py:8: RuntimeWarning: overflow encountered in cast\n",
      "  h_B = numpy.empty(size).astype(numpy.float32)\n",
      "/tmp/ipykernel_19829/2406637260.py:12: RuntimeWarning: overflow encountered in cast\n",
      "  h_C = numpy.empty(size).astype(numpy.float32)\n"
     ]
    },
    {
     "ename": "RuntimeError",
     "evalue": "Context failed: DEVICE_NOT_FOUND",
     "output_type": "error",
     "traceback": [
      "\u001b[0;31m---------------------------------------------------------------------------\u001b[0m",
      "\u001b[0;31mRuntimeError\u001b[0m                              Traceback (most recent call last)",
      "Cell \u001b[0;32mIn[20], line 17\u001b[0m\n\u001b[1;32m     15\u001b[0m \u001b[38;5;66;03m## Devices and compute context\u001b[39;00m\n\u001b[1;32m     16\u001b[0m platforms \u001b[38;5;241m=\u001b[39m cl\u001b[38;5;241m.\u001b[39mget_platforms()\n\u001b[0;32m---> 17\u001b[0m context \u001b[38;5;241m=\u001b[39m \u001b[43mcl\u001b[49m\u001b[38;5;241;43m.\u001b[39;49m\u001b[43mContext\u001b[49m\u001b[43m(\u001b[49m\n\u001b[1;32m     18\u001b[0m \u001b[43m        \u001b[49m\u001b[43mdev_type\u001b[49m\u001b[38;5;241;43m=\u001b[39;49m\u001b[43mcl\u001b[49m\u001b[38;5;241;43m.\u001b[39;49m\u001b[43mdevice_type\u001b[49m\u001b[38;5;241;43m.\u001b[39;49m\u001b[43mALL\u001b[49m\u001b[43m,\u001b[49m\n\u001b[1;32m     19\u001b[0m \u001b[43m        \u001b[49m\u001b[43mproperties\u001b[49m\u001b[38;5;241;43m=\u001b[39;49m\u001b[43m[\u001b[49m\u001b[43m(\u001b[49m\u001b[43mcl\u001b[49m\u001b[38;5;241;43m.\u001b[39;49m\u001b[43mcontext_properties\u001b[49m\u001b[38;5;241;43m.\u001b[39;49m\u001b[43mPLATFORM\u001b[49m\u001b[43m,\u001b[49m\u001b[43m \u001b[49m\u001b[43mplatforms\u001b[49m\u001b[43m[\u001b[49m\u001b[38;5;241;43m2\u001b[39;49m\u001b[43m]\u001b[49m\u001b[43m)\u001b[49m\u001b[43m]\u001b[49m\u001b[43m)\u001b[49m\n\u001b[1;32m     20\u001b[0m device \u001b[38;5;241m=\u001b[39m platforms[\u001b[38;5;241m2\u001b[39m]\u001b[38;5;241m.\u001b[39mget_devices()\n\u001b[1;32m     22\u001b[0m \u001b[38;5;66;03m# Print out device info\u001b[39;00m\n\u001b[1;32m     23\u001b[0m \u001b[38;5;66;03m#deviceinfo.output_device_info(context.devices[0])\u001b[39;00m\n\u001b[1;32m     24\u001b[0m \n\u001b[1;32m     25\u001b[0m \u001b[38;5;66;03m# Create a command queue\u001b[39;00m\n",
      "\u001b[0;31mRuntimeError\u001b[0m: Context failed: DEVICE_NOT_FOUND"
     ]
    }
   ],
   "source": [
    "## Device memory\n",
    "\n",
    "# A matrix\n",
    "h_A = numpy.empty(size).astype(numpy.float32)\n",
    "h_A.fill(AVAL)\n",
    "\n",
    "# B matrix\n",
    "h_B = numpy.empty(size).astype(numpy.float32)\n",
    "h_B.fill(BVAL)\n",
    "\n",
    "# C matrix\n",
    "h_C = numpy.empty(size).astype(numpy.float32)\n",
    "\n",
    "\n",
    "## Devices and compute context\n",
    "platforms = cl.get_platforms()\n",
    "context = cl.Context(\n",
    "        dev_type=cl.device_type.ALL,\n",
    "        properties=[(cl.context_properties.PLATFORM, platforms[2])])\n",
    "device = platforms[2].get_devices()\n",
    "\n",
    "# Print out device info\n",
    "#deviceinfo.output_device_info(context.devices[0])\n",
    "\n",
    "# Create a command queue\n",
    "queue = cl.CommandQueue(context)\n",
    "# Set up OpenCL"
   ]
  },
  {
   "cell_type": "code",
   "execution_count": 23,
   "id": "0d39a1a8-6c98-493a-bff0-76bbb0898d60",
   "metadata": {},
   "outputs": [
    {
     "data": {
      "text/plain": [
       "[]"
      ]
     },
     "execution_count": 23,
     "metadata": {},
     "output_type": "execute_result"
    }
   ],
   "source": [
    "platforms[2].get_devices()"
   ]
  },
  {
   "cell_type": "markdown",
   "id": "015ebcde-ff57-4e23-9325-278f72fe0ea1",
   "metadata": {
    "tags": []
   },
   "source": [
    "### 2. Setup Memory Kernels"
   ]
  },
  {
   "cell_type": "code",
   "execution_count": 3,
   "id": "f3273f90-05f4-4578-a35e-55dc0cd3911c",
   "metadata": {
    "tags": []
   },
   "outputs": [],
   "source": [
    "# Create the input (a, b) and output (c) arrays in device memory\n",
    "# Create OpenCL buffers\n",
    "d_a = cl.Buffer(context, cl.mem_flags.READ_ONLY | cl.mem_flags.COPY_HOST_PTR, hostbuf=h_A)\n",
    "d_b = cl.Buffer(context, cl.mem_flags.READ_ONLY | cl.mem_flags.COPY_HOST_PTR, hostbuf=h_B)\n",
    "d_c = cl.Buffer(context, cl.mem_flags.WRITE_ONLY, h_C.nbytes)"
   ]
  },
  {
   "cell_type": "markdown",
   "id": "c649a587-6878-4856-8c4b-74dcb7bec787",
   "metadata": {
    "tags": []
   },
   "source": [
    "### Test Simple Task"
   ]
  },
  {
   "cell_type": "code",
   "execution_count": 10,
   "id": "25aac39f-95cd-4a5d-8be8-d92198729b6c",
   "metadata": {
    "tags": []
   },
   "outputs": [
    {
     "name": "stdout",
     "output_type": "stream",
     "text": [
      "\n",
      "===== OpenCL, matrix mult, Simple Task, order 1024 ======\n",
      "\n"
     ]
    },
    {
     "ename": "LogicError",
     "evalue": "clCreateProgramWithBinary failed: INVALID_BINARY",
     "output_type": "error",
     "traceback": [
      "\u001b[0;31m---------------------------------------------------------------------------\u001b[0m",
      "\u001b[0;31mLogicError\u001b[0m                                Traceback (most recent call last)",
      "Cell \u001b[0;32mIn[10], line 4\u001b[0m\n\u001b[1;32m      1\u001b[0m \u001b[38;5;28mprint\u001b[39m(\u001b[38;5;124m\"\u001b[39m\u001b[38;5;130;01m\\n\u001b[39;00m\u001b[38;5;124m===== OpenCL, matrix mult, Simple Task, order\u001b[39m\u001b[38;5;124m\"\u001b[39m, N, \u001b[38;5;124m\"\u001b[39m\u001b[38;5;124m======\u001b[39m\u001b[38;5;130;01m\\n\u001b[39;00m\u001b[38;5;124m\"\u001b[39m)\n\u001b[1;32m      3\u001b[0m kernelSource \u001b[38;5;241m=\u001b[39m \u001b[38;5;28mopen\u001b[39m(\u001b[38;5;124m\"\u001b[39m\u001b[38;5;124mbin/Simple_task.aocx\u001b[39m\u001b[38;5;124m\"\u001b[39m, mode\u001b[38;5;241m=\u001b[39m\u001b[38;5;124m'\u001b[39m\u001b[38;5;124mrb\u001b[39m\u001b[38;5;124m'\u001b[39m)\u001b[38;5;241m.\u001b[39mread()\n\u001b[0;32m----> 4\u001b[0m program \u001b[38;5;241m=\u001b[39m \u001b[43mcl\u001b[49m\u001b[38;5;241;43m.\u001b[39;49m\u001b[43mProgram\u001b[49m\u001b[43m(\u001b[49m\u001b[43mcontext\u001b[49m\u001b[43m,\u001b[49m\u001b[43m \u001b[49m\u001b[43mdevice\u001b[49m\u001b[43m,\u001b[49m\u001b[43m \u001b[49m\u001b[43m[\u001b[49m\u001b[43mkernelSource\u001b[49m\u001b[43m]\u001b[49m\u001b[43m)\u001b[49m\u001b[38;5;241m.\u001b[39mbuild()\n\u001b[1;32m      6\u001b[0m mmul \u001b[38;5;241m=\u001b[39m program\u001b[38;5;241m.\u001b[39mmmul\n\u001b[1;32m      7\u001b[0m mmul\u001b[38;5;241m.\u001b[39mset_scalar_arg_dtypes([numpy\u001b[38;5;241m.\u001b[39mint32, \u001b[38;5;28;01mNone\u001b[39;00m, \u001b[38;5;28;01mNone\u001b[39;00m, \u001b[38;5;28;01mNone\u001b[39;00m])\n",
      "File \u001b[0;32m~/anaconda3/envs/TFM/lib/python3.8/site-packages/pyopencl/__init__.py:418\u001b[0m, in \u001b[0;36mProgram.__init__\u001b[0;34m(self, arg1, arg2, arg3)\u001b[0m\n\u001b[1;32m    416\u001b[0m     context, device, binaries \u001b[38;5;241m=\u001b[39m arg1, arg2, arg3\n\u001b[1;32m    417\u001b[0m     \u001b[38;5;28mself\u001b[39m\u001b[38;5;241m.\u001b[39m_context \u001b[38;5;241m=\u001b[39m context\n\u001b[0;32m--> 418\u001b[0m     \u001b[38;5;28mself\u001b[39m\u001b[38;5;241m.\u001b[39m_prg \u001b[38;5;241m=\u001b[39m \u001b[43m_cl\u001b[49m\u001b[38;5;241;43m.\u001b[39;49m\u001b[43m_Program\u001b[49m\u001b[43m(\u001b[49m\u001b[43mcontext\u001b[49m\u001b[43m,\u001b[49m\u001b[43m \u001b[49m\u001b[43mdevice\u001b[49m\u001b[43m,\u001b[49m\u001b[43m \u001b[49m\u001b[43mbinaries\u001b[49m\u001b[43m)\u001b[49m\n\u001b[1;32m    420\u001b[0m \u001b[38;5;28mself\u001b[39m\u001b[38;5;241m.\u001b[39m_build_duration_info \u001b[38;5;241m=\u001b[39m \u001b[38;5;28;01mNone\u001b[39;00m\n",
      "\u001b[0;31mLogicError\u001b[0m: clCreateProgramWithBinary failed: INVALID_BINARY"
     ]
    }
   ],
   "source": [
    "print(\"\\n===== OpenCL, matrix mult, Simple Task, order\", N, \"======\\n\")\n",
    "\n",
    "kernelSource = open(\"bin/Simple_task.aocx\", mode='rb').read()\n",
    "program = cl.Program(context, device, [kernelSource]).build()\n",
    "\n",
    "mmul = program.mmul\n",
    "mmul.set_scalar_arg_dtypes([numpy.int32, None, None, None])\n",
    "\n",
    "# Do the multiplication COUNT times\n",
    "for i in range(COUNT):\n",
    "    h_C.fill(0.0)\n",
    "    start_time = time()\n",
    "\n",
    "    globalrange = (1,)\n",
    "    localrange = None\n",
    "\n",
    "    mmul(queue, globalrange, localrange, N, d_a, d_b, d_c)\n",
    "    queue.finish()\n",
    "\n",
    "    run_time = time() - start_time\n",
    "\n",
    "    cl.enqueue_copy(queue, h_C, d_c)\n",
    "    results(N, h_C, run_time)\n"
   ]
  },
  {
   "cell_type": "markdown",
   "id": "412212df-ecfe-4d0f-b7b2-ea0cd2a819ce",
   "metadata": {},
   "source": [
    "### block form (matrices divided into tiles), each block in Local Memory"
   ]
  },
  {
   "cell_type": "code",
   "execution_count": 12,
   "id": "eb08f9f4-018b-4d1f-bc6d-9e95d8caa777",
   "metadata": {},
   "outputs": [
    {
     "name": "stdout",
     "output_type": "stream",
     "text": [
      "\n",
      "===== OpenCL, matrix mult, block form (matrices divided into tiles), each block in Local Memory, order 1024 ======\n",
      "\n",
      "0.31950879096984863 seconds at 6721.2036372503235 MFLOPS\n"
     ]
    }
   ],
   "source": [
    "print(\"\\n===== OpenCL, matrix mult, block form (matrices divided into tiles), each block in Local Memory, order\", N, \"======\\n\")\n",
    "\n",
    "kernelSource = open(\"bin/C_block_form.aocx\", mode='rb').read()\n",
    "program = cl.Program(context, device, [kernelSource]).build()\n",
    "\n",
    "mmul = program.mmul\n",
    "mmul.set_scalar_arg_dtypes([numpy.int32, None, None, None, None, None])\n",
    "\n",
    "blksz = 32\n",
    "\n",
    "A_blk = cl.LocalMemory(numpy.dtype(numpy.float32).itemsize * blksz* blksz) # Creating a local memory buffer indicating the size in bytes\n",
    "B_blk = cl.LocalMemory(numpy.dtype(numpy.float32).itemsize * blksz* blksz) # Creating a local memory buffer indicating the size in bytes\n",
    "\n",
    "\n",
    "# Do the multiplication COUNT times\n",
    "for i in range(COUNT):\n",
    "    h_C.fill(0.0)\n",
    "    start_time = time()\n",
    "\n",
    "    globalrange = (N, N)\n",
    "    localrange = (blksz, blksz) # 64 work-items per work-group\n",
    "    \n",
    "    mmul(queue, globalrange, localrange, N, d_a, d_b, d_c, A_blk, B_blk)\n",
    "    queue.finish()\n",
    "\n",
    "    run_time = time() - start_time\n",
    "\n",
    "    cl.enqueue_copy(queue, h_C, d_c)\n",
    "    results(N, h_C, run_time)\n"
   ]
  },
  {
   "cell_type": "code",
   "execution_count": null,
   "id": "92619de1-bb1d-4c0c-aaa3-e0ea06e05c96",
   "metadata": {},
   "outputs": [],
   "source": []
  }
 ],
 "metadata": {
  "kernelspec": {
   "display_name": "Python 3 (ipykernel)",
   "language": "python",
   "name": "python3"
  },
  "language_info": {
   "codemirror_mode": {
    "name": "ipython",
    "version": 3
   },
   "file_extension": ".py",
   "mimetype": "text/x-python",
   "name": "python",
   "nbconvert_exporter": "python",
   "pygments_lexer": "ipython3",
   "version": "3.8.16"
  }
 },
 "nbformat": 4,
 "nbformat_minor": 5
}
