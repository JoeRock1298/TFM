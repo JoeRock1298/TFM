{
 "cells": [
  {
   "cell_type": "code",
   "execution_count": 1,
   "id": "fa47aa39-b417-4931-8a8c-202c72801891",
   "metadata": {},
   "outputs": [],
   "source": [
    "#\n",
    "# Matrix Multiplication Driver\n",
    "#\n",
    "# This is a driver program to test various ways of computing\n",
    "# the product:\n",
    "#                 C = A * B\n",
    "#\n",
    "# A and B are constant matrices, square and the order is\n",
    "# set as a constant, ORDER (see definitions.py). This is so\n",
    "# we can make a quick test of the multiplication result.\n",
    "#\n",
    "# History:   C++ version written by Tim Mattson, August 2010 \n",
    "#            Modified by Simon McIntosh-Smith, September 2011\n",
    "#            Modified by Tom Deakin and Simon McIntosh-Smith, October 2012\n",
    "#            Ported to Python by Tom Deakin, July 2013\n",
    "#            Modified to assume square matrices by Simon McIntosh-Smith, Sep 2014\n",
    "#\n",
    "\n",
    "from helper import *\n",
    "from definitions import *\n",
    "\n",
    "import pyopencl as cl\n",
    "import numpy\n",
    "from time import time\n",
    "\n",
    "\n",
    "# A[N][N], B[N][N], C[N][N]\n",
    "N = ORDER;\n",
    "\n",
    "# Number of elements in the matrix\n",
    "size = N * N"
   ]
  },
  {
   "cell_type": "markdown",
   "id": "a8e8fad8-b501-4278-873b-cf3bf3ef9e8b",
   "metadata": {
    "tags": []
   },
   "source": [
    "### 1. Defining platform (devices + context + queues)"
   ]
  },
  {
   "cell_type": "code",
   "execution_count": 2,
   "id": "8743df31-db10-400a-8342-f1071db1d119",
   "metadata": {
    "tags": []
   },
   "outputs": [
    {
     "name": "stderr",
     "output_type": "stream",
     "text": [
      "/tmp/ipykernel_4414/664944794.py:8: RuntimeWarning: overflow encountered in cast\n",
      "  h_B = numpy.empty(size).astype(numpy.float32)\n",
      "/tmp/ipykernel_4414/664944794.py:12: RuntimeWarning: overflow encountered in cast\n",
      "  h_C = numpy.empty(size).astype(numpy.float32)\n"
     ]
    }
   ],
   "source": [
    "## Device memory\n",
    "\n",
    "# A matrix\n",
    "h_A = numpy.empty(size).astype(numpy.float32)\n",
    "h_A.fill(AVAL)\n",
    "\n",
    "# B matrix\n",
    "h_B = numpy.empty(size).astype(numpy.float32)\n",
    "h_B.fill(BVAL)\n",
    "\n",
    "# C matrix\n",
    "h_C = numpy.empty(size).astype(numpy.float32)\n",
    "\n",
    "\n",
    "## Devices and compute context\n",
    "platforms = cl.get_platforms()\n",
    "context = cl.Context(\n",
    "        dev_type=cl.device_type.ALL,\n",
    "        properties=[(cl.context_properties.PLATFORM, platforms[1])])\n",
    "device = platforms[1].get_devices()\n",
    "\n",
    "# Print out device info\n",
    "#deviceinfo.output_device_info(context.devices[0])\n",
    "\n",
    "# Create a command queue\n",
    "queue = cl.CommandQueue(context)\n",
    "# Set up OpenCL"
   ]
  },
  {
   "cell_type": "code",
   "execution_count": 11,
   "id": "1f5fbbaf-839b-43a8-9deb-c3390812a54a",
   "metadata": {},
   "outputs": [
    {
     "data": {
      "text/plain": [
       "<pyopencl.Platform 'Intel(R) OpenCL' at 0x356b308>"
      ]
     },
     "execution_count": 11,
     "metadata": {},
     "output_type": "execute_result"
    }
   ],
   "source": [
    "platforms[0]"
   ]
  },
  {
   "cell_type": "markdown",
   "id": "015ebcde-ff57-4e23-9325-278f72fe0ea1",
   "metadata": {
    "tags": []
   },
   "source": [
    "### 2. Setup Memory Kernels"
   ]
  },
  {
   "cell_type": "code",
   "execution_count": 3,
   "id": "f3273f90-05f4-4578-a35e-55dc0cd3911c",
   "metadata": {
    "tags": []
   },
   "outputs": [],
   "source": [
    "# Create the input (a, b) and output (c) arrays in device memory\n",
    "# Create OpenCL buffers\n",
    "d_a = cl.Buffer(context, cl.mem_flags.READ_ONLY | cl.mem_flags.COPY_HOST_PTR, hostbuf=h_A)\n",
    "d_b = cl.Buffer(context, cl.mem_flags.READ_ONLY | cl.mem_flags.COPY_HOST_PTR, hostbuf=h_B)\n",
    "d_c = cl.Buffer(context, cl.mem_flags.WRITE_ONLY, h_C.nbytes)"
   ]
  },
  {
   "cell_type": "markdown",
   "id": "c649a587-6878-4856-8c4b-74dcb7bec787",
   "metadata": {
    "tags": []
   },
   "source": [
    "### Test Simple Task"
   ]
  },
  {
   "cell_type": "code",
   "execution_count": 4,
   "id": "25aac39f-95cd-4a5d-8be8-d92198729b6c",
   "metadata": {
    "tags": []
   },
   "outputs": [
    {
     "name": "stdout",
     "output_type": "stream",
     "text": [
      "\n",
      "===== OpenCL, matrix mult, Simple Task, order 1024 ======\n",
      "\n"
     ]
    },
    {
     "name": "stderr",
     "output_type": "stream",
     "text": [
      "/home/joerock/anaconda3/envs/TFM/lib/python3.8/site-packages/pyopencl/__init__.py:270: CompilerWarning: Non-empty compiler output encountered. Set the environment variable PYOPENCL_COMPILER_OUTPUT=1 to see more.\n",
      "  warn(\"Non-empty compiler output encountered. Set the \"\n"
     ]
    },
    {
     "name": "stdout",
     "output_type": "stream",
     "text": [
      "4.910642147064209 seconds at 437.3121851861792 MFLOPS\n"
     ]
    }
   ],
   "source": [
    "print(\"\\n===== OpenCL, matrix mult, Simple Task, order\", N, \"======\\n\")\n",
    "kernelSource = open(\"bin/Simple_task.aocx\", mode='rb').read()\n",
    "program = cl.Program(context, device, [kernelSource]).build()\n",
    "\n",
    "mmul = program.mmul\n",
    "mmul.set_scalar_arg_dtypes([numpy.int32, None, None, None])\n",
    "\n",
    "# Do the multiplication COUNT times\n",
    "for i in range(COUNT):\n",
    "    h_C.fill(0.0)\n",
    "    start_time = time()\n",
    "\n",
    "    globalrange = (1,)\n",
    "    localrange = None\n",
    "\n",
    "    mmul(queue, globalrange, localrange, N, d_a, d_b, d_c)\n",
    "    queue.finish()\n",
    "\n",
    "    run_time = time() - start_time\n",
    "\n",
    "    cl.enqueue_copy(queue, h_C, d_c)\n",
    "    results(N, h_C, run_time)\n"
   ]
  },
  {
   "cell_type": "markdown",
   "id": "60b4804f-8a56-469d-83dd-3e50cfc2ef40",
   "metadata": {},
   "source": [
    "### C row per work item "
   ]
  },
  {
   "cell_type": "code",
   "execution_count": 5,
   "id": "8aebd26d-c004-4f5a-98c3-71a3fac8f033",
   "metadata": {},
   "outputs": [
    {
     "name": "stdout",
     "output_type": "stream",
     "text": [
      "\n",
      "===== OpenCL, matrix mult, C row per work item, order 1024 ======\n",
      "\n",
      "0.8255317211151123 seconds at 2601.333895563965 MFLOPS\n"
     ]
    }
   ],
   "source": [
    "print(\"\\n===== OpenCL, matrix mult, C row per work item, order\", N, \"======\\n\")\n",
    "\n",
    "kernelSource = open(\"bin/Crow_matmul.aocx\", mode='rb').read()\n",
    "program = cl.Program(context, device, [kernelSource]).build()\n",
    "\n",
    "mmul = program.mmul\n",
    "mmul.set_scalar_arg_dtypes([numpy.int32, None, None, None])\n",
    "\n",
    "# Do the multiplication COUNT times\n",
    "for i in range(COUNT):\n",
    "    h_C.fill(0.0)\n",
    "    start_time = time()\n",
    "\n",
    "    globalrange = (N, )\n",
    "    localrange = (int(ORDER/16), ) # 64 work-items per work-group\n",
    "    \n",
    "    mmul(queue, globalrange, localrange, numpy.int32(N), d_a, d_b, d_c)\n",
    "    queue.finish()\n",
    "\n",
    "    run_time = time() - start_time\n",
    "\n",
    "    cl.enqueue_copy(queue, h_C, d_c)\n",
    "    results(N, h_C, run_time)\n",
    "    "
   ]
  },
  {
   "cell_type": "markdown",
   "id": "bdccf40d-9771-4b00-8142-da0993fbe4a2",
   "metadata": {},
   "source": [
    "### C row per work item with private memory"
   ]
  },
  {
   "cell_type": "code",
   "execution_count": 6,
   "id": "ed184949-3fa2-4a78-ade8-ff8b5f5eb010",
   "metadata": {},
   "outputs": [
    {
     "name": "stdout",
     "output_type": "stream",
     "text": [
      "\n",
      "===== OpenCL, matrix mult, C row per work item with private memory, order 1024 ======\n",
      "\n",
      "0.8498001098632812 seconds at 2527.045622935368 MFLOPS\n"
     ]
    }
   ],
   "source": [
    "print(\"\\n===== OpenCL, matrix mult, C row per work item with private memory, order\", N, \"======\\n\")\n",
    "\n",
    "kernelSource = open(\"bin/Crow_matmul_priv_mem.aocx\", mode='rb').read()\n",
    "program = cl.Program(context, device, [kernelSource]).build()\n",
    "\n",
    "mmul = program.mmul\n",
    "mmul.set_scalar_arg_dtypes([numpy.int32, None, None, None])\n",
    "\n",
    "# Do the multiplication COUNT times\n",
    "for i in range(COUNT):\n",
    "    h_C.fill(0.0)\n",
    "    start_time = time()\n",
    "\n",
    "    globalrange = (N, )\n",
    "    localrange = (int(ORDER/16), ) # 64 work-items per work-group\n",
    "    \n",
    "    mmul(queue, globalrange, localrange, N, d_a, d_b, d_c)\n",
    "    queue.finish()\n",
    "\n",
    "    run_time = time() - start_time\n",
    "\n",
    "    cl.enqueue_copy(queue, h_C, d_c)\n",
    "    results(N, h_C, run_time) "
   ]
  },
  {
   "cell_type": "markdown",
   "id": "20bae27a-dd90-4c96-9f70-d9f389cff085",
   "metadata": {},
   "source": [
    "### C row per work item with Row A in private memory and Col B in Local Memory"
   ]
  },
  {
   "cell_type": "code",
   "execution_count": 10,
   "id": "36050efb-1f30-4298-8f8e-0009dd6aaaf3",
   "metadata": {},
   "outputs": [
    {
     "name": "stdout",
     "output_type": "stream",
     "text": [
      "\n",
      "===== OpenCL, matrix mult, C row per work item, Row A in private memory & Col B in Local Memory, order 1024 ======\n",
      "\n",
      "0.3787219524383545 seconds at 5670.3437288852465 MFLOPS\n"
     ]
    }
   ],
   "source": [
    "print(\"\\n===== OpenCL, matrix mult, C row per work item, Row A in private memory & Col B in Local Memory, order\", N, \"======\\n\")\n",
    "\n",
    "kernelSource = open(\"bin/Crow_matmul_priv_local_mem.aocx\", mode='rb').read()\n",
    "program = cl.Program(context, device, [kernelSource]).build()\n",
    "\n",
    "mmul = program.mmul\n",
    "mmul.set_scalar_arg_dtypes([numpy.int32, None, None, None, None])\n",
    "\n",
    "local_mem = cl.LocalMemory(numpy.dtype(numpy.float32).itemsize * N) # Creating a local memory buffer indicating the size in bytes\n",
    "\n",
    "# Do the multiplication COUNT times\n",
    "for i in range(COUNT):\n",
    "    h_C.fill(0.0)\n",
    "    start_time = time()\n",
    "\n",
    "    globalrange = (N, )\n",
    "    localrange = (int(ORDER/16), ) # 64 work-items per work-group\n",
    "    \n",
    "    mmul(queue, globalrange, localrange, N, d_a, d_b, d_c, local_mem)\n",
    "    queue.finish()\n",
    "\n",
    "    run_time = time() - start_time\n",
    "\n",
    "    cl.enqueue_copy(queue, h_C, d_c)\n",
    "    results(N, h_C, run_time)"
   ]
  },
  {
   "cell_type": "markdown",
   "id": "412212df-ecfe-4d0f-b7b2-ea0cd2a819ce",
   "metadata": {},
   "source": [
    "### block form (matrices divided into tiles), each block in Local Memory"
   ]
  },
  {
   "cell_type": "code",
   "execution_count": 12,
   "id": "eb08f9f4-018b-4d1f-bc6d-9e95d8caa777",
   "metadata": {},
   "outputs": [
    {
     "name": "stdout",
     "output_type": "stream",
     "text": [
      "\n",
      "===== OpenCL, matrix mult, block form (matrices divided into tiles), each block in Local Memory, order 1024 ======\n",
      "\n",
      "0.31950879096984863 seconds at 6721.2036372503235 MFLOPS\n"
     ]
    }
   ],
   "source": [
    "print(\"\\n===== OpenCL, matrix mult, block form (matrices divided into tiles), each block in Local Memory, order\", N, \"======\\n\")\n",
    "\n",
    "kernelSource = open(\"bin/C_block_form.aocx\", mode='rb').read()\n",
    "program = cl.Program(context, device, [kernelSource]).build()\n",
    "\n",
    "mmul = program.mmul\n",
    "mmul.set_scalar_arg_dtypes([numpy.int32, None, None, None, None, None])\n",
    "\n",
    "blksz = 32\n",
    "\n",
    "A_blk = cl.LocalMemory(numpy.dtype(numpy.float32).itemsize * blksz* blksz) # Creating a local memory buffer indicating the size in bytes\n",
    "B_blk = cl.LocalMemory(numpy.dtype(numpy.float32).itemsize * blksz* blksz) # Creating a local memory buffer indicating the size in bytes\n",
    "\n",
    "\n",
    "# Do the multiplication COUNT times\n",
    "for i in range(COUNT):\n",
    "    h_C.fill(0.0)\n",
    "    start_time = time()\n",
    "\n",
    "    globalrange = (N, N)\n",
    "    localrange = (blksz, blksz) # 64 work-items per work-group\n",
    "    \n",
    "    mmul(queue, globalrange, localrange, N, d_a, d_b, d_c, A_blk, B_blk)\n",
    "    queue.finish()\n",
    "\n",
    "    run_time = time() - start_time\n",
    "\n",
    "    cl.enqueue_copy(queue, h_C, d_c)\n",
    "    results(N, h_C, run_time)\n"
   ]
  },
  {
   "cell_type": "code",
   "execution_count": null,
   "id": "92619de1-bb1d-4c0c-aaa3-e0ea06e05c96",
   "metadata": {},
   "outputs": [],
   "source": []
  }
 ],
 "metadata": {
  "kernelspec": {
   "display_name": "Python 3 (ipykernel)",
   "language": "python",
   "name": "python3"
  },
  "language_info": {
   "codemirror_mode": {
    "name": "ipython",
    "version": 3
   },
   "file_extension": ".py",
   "mimetype": "text/x-python",
   "name": "python",
   "nbconvert_exporter": "python",
   "pygments_lexer": "ipython3",
   "version": "3.8.16"
  }
 },
 "nbformat": 4,
 "nbformat_minor": 5
}
