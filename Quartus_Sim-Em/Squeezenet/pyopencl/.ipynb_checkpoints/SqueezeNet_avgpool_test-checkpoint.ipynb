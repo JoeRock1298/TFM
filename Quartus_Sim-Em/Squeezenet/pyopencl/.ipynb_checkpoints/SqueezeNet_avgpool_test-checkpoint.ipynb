{
 "cells": [
  {
   "cell_type": "markdown",
   "metadata": {},
   "source": [
    "# Debug SqueezeNet v1.3 (Simple Task) OpenCL implement with PyOpenCL and PyTorch\n",
    "Partial code are copied heavily from https://github.com/pytorch/vision/blob/master/torchvision/models/squeezenet.py  \n",
    "SqueezeNet Paper:https://arxiv.org/abs/1602.07360  \n",
    "SqueezeNet 1.1 model from https://github.com/DeepScale/SqueezeNet/tree/master/SqueezeNet_v1.1   \n",
    "SqueezeNet 1.1 has 2.4x less computation and slightly fewer parameters than SqueezeNet 1.0, without sacrificing accuracy.\n",
    "\n",
    "TEST DE IMPLEMENTACIÓN AVGPOOL 15x15 (capa final)"
   ]
  },
  {
   "cell_type": "code",
   "execution_count": 1,
   "metadata": {
    "tags": []
   },
   "outputs": [],
   "source": [
    "#some set up\n",
    "import os\n",
    "import numpy as np\n",
    "import torch\n",
    "import torch.nn as nn\n",
    "import torch.nn.parallel\n",
    "import torch.backends.cudnn as cudnn\n",
    "from torch.autograd import Variable\n",
    "import torch.utils.data\n",
    "import torchvision.transforms as transforms\n",
    "import torchvision.datasets as datasets\n",
    "from PIL import Image\n",
    "import math\n",
    "import time\n",
    "from time import sleep, perf_counter as pc\n",
    "from matplotlib.pyplot import imshow\n",
    "%matplotlib inline"
   ]
  },
  {
   "cell_type": "markdown",
   "metadata": {},
   "source": [
    "## Aquí tenemos el medidor de pytorch"
   ]
  },
  {
   "cell_type": "markdown",
   "metadata": {},
   "source": [
    "- En esta aproximacion tengo en cuenta el tiempo de definición de capas y la carga de pesos porque se supone que entre fire y fire estas operaciones tiene que hacerse\n"
   ]
  },
  {
   "cell_type": "code",
   "execution_count": 2,
   "metadata": {
    "tags": []
   },
   "outputs": [
    {
     "name": "stdout",
     "output_type": "stream",
     "text": [
      "[[[4.72]]\n",
      "\n",
      " [[4.96]]\n",
      "\n",
      " [[4.68]]\n",
      "\n",
      " [[3.8 ]]\n",
      "\n",
      " [[3.4 ]]\n",
      "\n",
      " [[4.88]]\n",
      "\n",
      " [[4.52]]\n",
      "\n",
      " [[4.24]]\n",
      "\n",
      " [[4.44]]\n",
      "\n",
      " [[3.72]]]\n",
      "tiempo en segundos con pytorch=  0.0003559758699998383\n"
     ]
    }
   ],
   "source": [
    "canales_iniciales=1000 #input_channels\n",
    "canales_finales= canales_iniciales\n",
    "\n",
    "acumulado_pytorch=0\n",
    "idea=True\n",
    "count=100\n",
    "tamanyo=5 #input_size\n",
    "\n",
    "for i in range(count):\n",
    "\n",
    "    imagen = np.random.randint(10,size=(1,canales_iniciales, tamanyo, tamanyo))\n",
    "      \n",
    "    tic=pc()\n",
    "    avgpool = nn.AvgPool2d(tamanyo)\n",
    "    imagen1  = torch.from_numpy(imagen).float()\n",
    "    \n",
    "    salida1 = avgpool(imagen1)\n",
    "    \n",
    "    salida1_a_numpy=salida1.detach().numpy()\n",
    "    \n",
    "    toc=pc()\n",
    "    \n",
    "    acumulado_pytorch=toc-tic+acumulado_pytorch\n",
    "    \n",
    "print(salida1_a_numpy[0][-10:])\n",
    "print (\"tiempo en segundos con pytorch= \", acumulado_pytorch/count)"
   ]
  },
  {
   "cell_type": "markdown",
   "metadata": {},
   "source": [
    "## Veamos ahora solo conv3x3 con opencl"
   ]
  },
  {
   "cell_type": "code",
   "execution_count": 3,
   "metadata": {
    "tags": []
   },
   "outputs": [],
   "source": [
    "# OpenCL setup\n",
    "import pyopencl as cl\n",
    "import sys\n",
    "sys.path.append('../common')\n",
    "import deviceinfo\n",
    "from time import time\n",
    "\n",
    "#wksp = '../device/v1.3/conv3x3'\n"
   ]
  },
  {
   "cell_type": "markdown",
   "metadata": {},
   "source": [
    "#### Step0-A: compilation for emulation"
   ]
  },
  {
   "cell_type": "code",
   "execution_count": 21,
   "metadata": {
    "tags": []
   },
   "outputs": [
    {
     "name": "stdout",
     "output_type": "stream",
     "text": [
      "aoc: OpenCL kernel compilation completed successfully.\n",
      "aoc: Linking Object files....\n",
      "aoc: Compiling for Emulation ....\n",
      "aoc: OpenCL kernel compilation completed successfully.\n",
      "aoc: Linking Object files....\n",
      "aoc: Compiling for Emulation ....\n"
     ]
    }
   ],
   "source": [
    "%%bash\n",
    "aoc -march=emulator ../device/v1.3/avgpool/avgpool_NDRange.cl -o ../device/v1.3/avgpool/bin_em/avgpool_NDRange.aocx\n",
    "aoc -march=emulator ../device/v1.3/avgpool/avgpool_ST.cl -o ../device/v1.3/avgpool/bin_em/avgpool_ST.aocx"
   ]
  },
  {
   "cell_type": "markdown",
   "metadata": {},
   "source": [
    "#### Step0-B: compilation for simulation"
   ]
  },
  {
   "cell_type": "code",
   "execution_count": 22,
   "metadata": {
    "tags": []
   },
   "outputs": [
    {
     "name": "stdout",
     "output_type": "stream",
     "text": [
      "aoc: Environment checks completed successfully.\n",
      "Quartus location: /home/joerock/intelFPGA_pro/21.1/quartus/bin/quartus_sh\n",
      "aoc: Cached files in /var/tmp/aocl/joerock may be used to reduce compilation time\n",
      "aoc: Selected target board package /home/joerock/intelFPGA_pro/21.1/hld/board/a10_ref\n",
      "aoc: Selected target board a10gx\n",
      "aoc: Running OpenCL parser....\n",
      "aoc: OpenCL parser completed \n",
      "aoc: Linking Object files....\n",
      "aoc: Optimizing and doing static analysis of code...\n",
      "aoc: Linking with IP library ...\n",
      "aoc: Checking if memory usage is larger than 100%...\n",
      "aoc: Memory usage is not above 100.\n",
      "aoc: First stage compilation completed successfully.\n",
      "aoc: Compiling for Simulator.\n",
      "Quartus location: /home/joerock/intelFPGA_pro/21.1/quartus/bin/quartus_sh\n",
      "Creating simulation system...\n",
      "Generating simulation system...\n",
      "Compiling simulation...\n",
      "aoc: Simulation generation done!\n",
      "Simulator flow is successful.\n",
      "To execute simulator, invoke host with \n",
      "\tenv CL_CONTEXT_MPSIM_DEVICE_INTELFPGA=1 <host_program>\n",
      "aoc: Environment checks completed successfully.\n",
      "Quartus location: /home/joerock/intelFPGA_pro/21.1/quartus/bin/quartus_sh\n",
      "aoc: Cached files in /var/tmp/aocl/joerock may be used to reduce compilation time\n",
      "aoc: Selected target board package /home/joerock/intelFPGA_pro/21.1/hld/board/a10_ref\n",
      "aoc: Selected target board a10gx\n",
      "aoc: Running OpenCL parser....\n",
      "aoc: OpenCL parser completed \n",
      "aoc: Linking Object files....\n",
      "aoc: Optimizing and doing static analysis of code...\n",
      "aoc: Linking with IP library ...\n",
      "aoc: Checking if memory usage is larger than 100%...\n",
      "aoc: Memory usage is not above 100.\n",
      "aoc: First stage compilation completed successfully.\n",
      "aoc: Compiling for Simulator.\n",
      "Quartus location: /home/joerock/intelFPGA_pro/21.1/quartus/bin/quartus_sh\n",
      "Creating simulation system...\n",
      "Generating simulation system...\n",
      "Compiling simulation...\n",
      "aoc: Simulation generation done!\n",
      "Simulator flow is successful.\n",
      "To execute simulator, invoke host with \n",
      "\tenv CL_CONTEXT_MPSIM_DEVICE_INTELFPGA=1 <host_program>\n"
     ]
    }
   ],
   "source": [
    "%%bash\n",
    "aoc -march=simulator -v -ghdl ../device/v1.3/avgpool/avgpool_NDRange.cl -o ../device/v1.3/avgpool/bin_sim/avgpool_NDRange.aocx -board=a10gx\n",
    "aoc -march=simulator -v -ghdl ../device/v1.3/avgpool/avgpool_ST.cl -o ../device/v1.3/avgpool/bin_sim/avgpool_ST.aocx -board=a10gx\n"
   ]
  },
  {
   "cell_type": "markdown",
   "metadata": {},
   "source": [
    "#### Step1: OpenCL preparation"
   ]
  },
  {
   "cell_type": "code",
   "execution_count": 4,
   "metadata": {
    "scrolled": true
   },
   "outputs": [
    {
     "data": {
      "text/plain": [
       "<pyopencl.Context at 0x5251948 on <pyopencl.Device '12th Gen Intel(R) Core(TM) i7-12650H' on 'Intel(R) OpenCL' at 0x525db78>>"
      ]
     },
     "execution_count": 4,
     "metadata": {},
     "output_type": "execute_result"
    }
   ],
   "source": [
    "platforms = cl.get_platforms()\n",
    "context = cl.Context(\n",
    "        dev_type=cl.device_type.ALL,\n",
    "        properties=[(cl.context_properties.PLATFORM, platforms[0])])\n",
    "queue = cl.CommandQueue(context)\n",
    "\n",
    "context"
   ]
  },
  {
   "cell_type": "markdown",
   "metadata": {
    "tags": []
   },
   "source": [
    "#### Step 2: creat kernels\n",
    "Creat & build program"
   ]
  },
  {
   "cell_type": "code",
   "execution_count": 5,
   "metadata": {
    "scrolled": true,
    "tags": []
   },
   "outputs": [
    {
     "name": "stderr",
     "output_type": "stream",
     "text": [
      "/home/joerock/anaconda3/envs/TFM/lib/python3.8/site-packages/pyopencl/__init__.py:270: CompilerWarning: Non-empty compiler output encountered. Set the environment variable PYOPENCL_COMPILER_OUTPUT=1 to see more.\n",
      "  warn(\"Non-empty compiler output encountered. Set the \"\n"
     ]
    }
   ],
   "source": [
    "wksp = '../device/v1.3/avgpool/'\n",
    "\n",
    "file_dir = wksp + 'avgpool_NDRange.cl'\n",
    "\n",
    "kernelSource = open(file_dir).read()\n",
    "program_NDR = cl.Program(context, kernelSource).build()\n",
    "\n",
    "file_dir = wksp + 'avgpool_ST.cl'\n",
    "\n",
    "kernelSource = open(file_dir).read()\n",
    "program_ST = cl.Program(context, kernelSource).build()"
   ]
  },
  {
   "cell_type": "markdown",
   "metadata": {},
   "source": [
    "Creat kernels"
   ]
  },
  {
   "cell_type": "code",
   "execution_count": 6,
   "metadata": {
    "tags": []
   },
   "outputs": [],
   "source": [
    "avgpool_NDR = program_NDR.avgpool2d\n",
    "avgpool_NDR.set_scalar_arg_dtypes([None, None])\n",
    "\n",
    "avgpool_ST = program_ST.avgpool2d\n",
    "avgpool_ST.set_scalar_arg_dtypes([None, None])"
   ]
  },
  {
   "cell_type": "markdown",
   "metadata": {
    "tags": []
   },
   "source": [
    "#### OpenCL kernel: avgpool_NDRange.cl\n",
    "\n",
    "avgpool2d: 2-D 13x13 average pool for the last layer of the classifier.  \n",
    "\n",
    "```C\n",
    "//last layer use a 13 x 13 avgPool layer as classifier\n",
    "//one class score per kernel\n",
    "__kernel void avgpool2d(\n",
    "\t__global const float* restrict input_im,\n",
    "\t__global float* restrict output_im)\n",
    "{\n",
    "\tint class_index = get_global_id(0);//get class score index\n",
    "\n",
    "\tinput_im += 169 * class_index;\n",
    "\t\n",
    "\tfloat tmp = 0.0f;\n",
    "\n",
    "\tfor(int i = 0; i < 169; i++)\n",
    "\t{\n",
    "\t\ttmp += input_im[i];\n",
    "\t}\n",
    "\n",
    "\toutput_im[class_index] = tmp / 169.0;\n",
    "}\n",
    "```\n",
    "#### OpenCL kernel: avgpool_ST.cl\n",
    "\n",
    "avgpool2d: 2-D 13x13 average pool for the last layer of the classifier. \n",
    "\n",
    "```C\n",
    "//last layer use a 13 x 13 avgPool layer as classifier\n",
    "//one class score per kernel\n",
    "__kernel void avgpool2d(\n",
    "\t__global const float* restrict input_im,\n",
    "\t__global float* restrict output_im)\n",
    "{\n",
    "\t// int class_index = get_global_id(0);//get class score index\n",
    "    \n",
    "    //Since it's the final layer, we know that there are only 1000 classes\n",
    "    \n",
    "\t//input_im += 169 * class_index;\n",
    "\n",
    "\tfor(int class_index = 0; class_index < 1000; class_index++)\n",
    "    {\n",
    "            \n",
    "        float tmp = 0.0f;\n",
    "\n",
    "        for(int i = 0; i < 169; i++)\n",
    "        {\n",
    "            tmp += input_im[class_index * 169 + i];\n",
    "        }\n",
    "\n",
    "        output_im[class_index] = tmp / 169.0;\n",
    "    }\n",
    "}\n",
    "```"
   ]
  },
  {
   "cell_type": "markdown",
   "metadata": {},
   "source": [
    "Run OpenCL implement  "
   ]
  },
  {
   "cell_type": "code",
   "execution_count": 7,
   "metadata": {},
   "outputs": [],
   "source": [
    "tamanyo=13 #input_size\n",
    "canales_iniciales=1000 #input_channels\n",
    "\n",
    "acumulado_pytorch=0\n",
    "\n",
    "imagen = np.random.randint(10,size=(1,canales_iniciales, tamanyo, tamanyo)).astype(np.float32)\n",
    "#imagen = np.ones((1,canales_iniciales, tamanyo, tamanyo)).astype(np.float32)\n",
    "\n",
    "tic=pc()\n",
    "\n",
    "avgpool = nn.AvgPool2d(tamanyo)\n",
    "imagen1  = torch.from_numpy(imagen).float()\n",
    "    \n",
    "salida1 = avgpool(imagen1)\n",
    "    \n",
    "salida1_a_numpy=salida1.detach().numpy()\n",
    "\n",
    "toc=pc()\n",
    "acumulado_pytorch=toc-tic+acumulado_pytorch\n",
    "\n",
    "####### OPENCL COMPARISON #######\n"
   ]
  },
  {
   "cell_type": "code",
   "execution_count": 8,
   "metadata": {},
   "outputs": [],
   "source": [
    "# NDRANGE\n",
    "\n",
    "h_sample = imagen.reshape(-1).astype(np.float32)\n",
    "d_sample = cl.Buffer(context, cl.mem_flags.READ_ONLY | cl.mem_flags.COPY_HOST_PTR, hostbuf=h_sample)\n",
    "\n",
    "h_result_pool1 = np.empty(1 * canales_iniciales).astype(np.float32)\n",
    "d_result_pool = cl.Buffer(context, cl.mem_flags.WRITE_ONLY, h_result_pool1.nbytes)\n",
    "\n",
    "tic2 = pc()\n",
    "\n",
    "avgpool_NDR(queue,(canales_iniciales, ), None, d_sample, d_result_pool)\n",
    "\n",
    "queue.finish()\n",
    "\n",
    "cl.enqueue_copy(queue, h_result_pool1, d_result_pool)\n",
    "\n",
    "queue.finish()\n",
    "\n",
    "veamos = h_result_pool1\n",
    "\n",
    "rtime = pc() - tic2\n"
   ]
  },
  {
   "cell_type": "code",
   "execution_count": 9,
   "metadata": {},
   "outputs": [
    {
     "name": "stderr",
     "output_type": "stream",
     "text": [
      "/tmp/ipykernel_3862/1141486297.py:6: RuntimeWarning: overflow encountered in cast\n",
      "  h_result_pool = np.empty(1 * canales_iniciales).astype(np.float32)\n"
     ]
    }
   ],
   "source": [
    "# Simple task\n",
    "\n",
    "h_sample = imagen.reshape(-1).astype(np.float32)\n",
    "d_sample = cl.Buffer(context, cl.mem_flags.READ_ONLY | cl.mem_flags.COPY_HOST_PTR, hostbuf=h_sample)\n",
    "\n",
    "h_result_pool = np.empty(1 * canales_iniciales).astype(np.float32)\n",
    "d_result_pool = cl.Buffer(context, cl.mem_flags.WRITE_ONLY, h_result_pool.nbytes)\n",
    "\n",
    "tic3 = pc()\n",
    "\n",
    "avgpool_ST(queue, (1, ), None, d_sample, d_result_pool)\n",
    "\n",
    "queue.finish()\n",
    "\n",
    "cl.enqueue_copy(queue, h_result_pool, d_result_pool)\n",
    "\n",
    "queue.finish()\n",
    "\n",
    "veamos1 = h_result_pool\n",
    "\n",
    "rtime1 = pc() - tic3"
   ]
  },
  {
   "cell_type": "code",
   "execution_count": 10,
   "metadata": {
    "tags": []
   },
   "outputs": [
    {
     "name": "stdout",
     "output_type": "stream",
     "text": [
      "tiempo en segundos con pytorch=  0.00023687800000971038\n",
      "tiempo en segundos con opencl (NDRANGE)= 0.000386418000005051\n",
      "tiempo en segundos con opencl (Simple Task)= 0.0002441999999973632\n",
      "comparativa (pytorch == NDRange):  True\n",
      "comparativa (pytorch == Simple Task):  True\n",
      "comparativa (NDRange == Simple Task):  True\n"
     ]
    }
   ],
   "source": [
    "print (\"tiempo en segundos con pytorch= \", toc-tic)\n",
    "print (\"tiempo en segundos con opencl (NDRANGE)=\",rtime)\n",
    "print (\"tiempo en segundos con opencl (Simple Task)=\",rtime1)\n",
    "\n",
    "comparativa1=np.allclose(salida1_a_numpy.reshape(-1), veamos,rtol=1e-01, atol=1e-01)\n",
    "comparativa2=np.allclose(salida1_a_numpy.reshape(-1), veamos1,rtol=1e-01, atol=1e-01)\n",
    "comparativa3=np.allclose(veamos, veamos1,rtol=1e-01, atol=1e-01)\n",
    "\n",
    "print(\"comparativa (pytorch == NDRange): \",comparativa1)\n",
    "print(\"comparativa (pytorch == Simple Task): \",comparativa2)\n",
    "print(\"comparativa (NDRange == Simple Task): \",comparativa3)"
   ]
  },
  {
   "cell_type": "code",
   "execution_count": 11,
   "metadata": {
    "tags": []
   },
   "outputs": [
    {
     "name": "stdout",
     "output_type": "stream",
     "text": [
      "[4.662722] \n",
      " [4.662722] \n",
      " [4.662722]\n",
      "[ True  True  True  True]\n"
     ]
    }
   ],
   "source": [
    "print(salida1_a_numpy.reshape(-1)[-1:],'\\n' ,veamos[-1:], '\\n', veamos1[-1:])\n",
    "\n",
    "test = np.isclose(salida1_a_numpy, veamos1, rtol=1e-01, atol=1e-01)\n",
    "\n",
    "for i in range(canales_iniciales):\n",
    "    if ((salida1_a_numpy.reshape(-1)[i] - veamos1[i])) > 1e-01:\n",
    "        print(\"i:\", i, salida1_a_numpy.reshape(-1)[i], veamos1[i])\n",
    "print(test.reshape(-1)[[25,183,191,972]])"
   ]
  },
  {
   "cell_type": "markdown",
   "metadata": {
    "tags": []
   },
   "source": [
    "#### Step 3: emulation\n",
    "Creat & build program"
   ]
  },
  {
   "cell_type": "code",
   "execution_count": 12,
   "metadata": {},
   "outputs": [
    {
     "data": {
      "text/plain": [
       "<pyopencl.Context at 0x518ec38 on <pyopencl.Device 'Intel(R) FPGA Emulation Device' on 'Intel(R) FPGA Emulation Platform for OpenCL(TM)' at 0x52684d8>>"
      ]
     },
     "execution_count": 12,
     "metadata": {},
     "output_type": "execute_result"
    }
   ],
   "source": [
    "platforms = cl.get_platforms()\n",
    "context = cl.Context(\n",
    "        dev_type=cl.device_type.ALL,\n",
    "        properties=[(cl.context_properties.PLATFORM, platforms[1])])\n",
    "device = platforms[1].get_devices()\n",
    "\n",
    "queue = cl.CommandQueue(context)\n",
    "\n",
    "context"
   ]
  },
  {
   "cell_type": "code",
   "execution_count": 13,
   "metadata": {
    "scrolled": true,
    "tags": []
   },
   "outputs": [],
   "source": [
    "wksp = '../device/v1.3/avgpool/bin_em/'\n",
    "\n",
    "file_dir = wksp + 'avgpool_NDRange.aocx'\n",
    "\n",
    "kernelSource = open(file_dir, mode='rb').read()\n",
    "program_NDR = cl.Program(context, device, [kernelSource]).build()\n",
    "\n",
    "file_dir = wksp + 'avgpool_ST.aocx'\n",
    "\n",
    "kernelSource = open(file_dir, mode='rb').read()\n",
    "program_ST = cl.Program(context, device, [kernelSource]).build()"
   ]
  },
  {
   "cell_type": "markdown",
   "metadata": {},
   "source": [
    "Creat kernels"
   ]
  },
  {
   "cell_type": "code",
   "execution_count": 14,
   "metadata": {
    "tags": []
   },
   "outputs": [],
   "source": [
    "avgpool_NDR = program_NDR.avgpool2d\n",
    "avgpool_NDR.set_scalar_arg_dtypes([None, None])\n",
    "\n",
    "avgpool_ST = program_ST.avgpool2d\n",
    "avgpool_ST.set_scalar_arg_dtypes([None, None])\n"
   ]
  },
  {
   "cell_type": "markdown",
   "metadata": {},
   "source": [
    "Run OpenCL implement  "
   ]
  },
  {
   "cell_type": "code",
   "execution_count": 15,
   "metadata": {},
   "outputs": [],
   "source": [
    "tamanyo=13 #input_size\n",
    "canales_iniciales=1000 #input_channels\n",
    "\n",
    "acumulado_pytorch=0\n",
    "\n",
    "imagen = np.random.randint(10,size=(1,canales_iniciales, tamanyo, tamanyo)).astype(np.float32)\n",
    "#imagen = np.ones((1,canales_iniciales, tamanyo, tamanyo)).astype(np.float32)\n",
    "\n",
    "tic=pc()\n",
    "\n",
    "avgpool = nn.AvgPool2d(tamanyo)\n",
    "imagen1  = torch.from_numpy(imagen).float()\n",
    "    \n",
    "salida1 = avgpool(imagen1)\n",
    "    \n",
    "salida1_a_numpy=salida1.detach().numpy()\n",
    "\n",
    "toc=pc()\n",
    "acumulado_pytorch=toc-tic+acumulado_pytorch\n",
    "\n",
    "####### OPENCL COMPARISON #######\n"
   ]
  },
  {
   "cell_type": "code",
   "execution_count": 16,
   "metadata": {},
   "outputs": [
    {
     "name": "stderr",
     "output_type": "stream",
     "text": [
      "/tmp/ipykernel_3862/2184114204.py:6: RuntimeWarning: overflow encountered in cast\n",
      "  h_result_pool1 = np.empty(1 * canales_iniciales).astype(np.float32)\n"
     ]
    }
   ],
   "source": [
    "# NDRANGE\n",
    "\n",
    "h_sample = imagen.reshape(-1).astype(np.float32)\n",
    "d_sample = cl.Buffer(context, cl.mem_flags.READ_ONLY | cl.mem_flags.COPY_HOST_PTR, hostbuf=h_sample)\n",
    "\n",
    "h_result_pool1 = np.empty(1 * canales_iniciales).astype(np.float32)\n",
    "d_result_pool = cl.Buffer(context, cl.mem_flags.WRITE_ONLY, h_result_pool1.nbytes)\n",
    "\n",
    "tic2 = pc()\n",
    "\n",
    "avgpool_NDR(queue,(canales_iniciales, ), None, d_sample, d_result_pool)\n",
    "\n",
    "queue.finish()\n",
    "\n",
    "cl.enqueue_copy(queue, h_result_pool1, d_result_pool)\n",
    "\n",
    "queue.finish()\n",
    "\n",
    "veamos = h_result_pool1\n",
    "\n",
    "rtime = pc() - tic2\n"
   ]
  },
  {
   "cell_type": "code",
   "execution_count": 17,
   "metadata": {},
   "outputs": [
    {
     "name": "stderr",
     "output_type": "stream",
     "text": [
      "/tmp/ipykernel_3862/2578323206.py:6: RuntimeWarning: overflow encountered in cast\n",
      "  h_result_pool = np.empty(1 * canales_iniciales).astype(np.float32)\n"
     ]
    }
   ],
   "source": [
    "# Simple task\n",
    "\n",
    "h_sample = imagen.reshape(-1).astype(np.float32)\n",
    "d_sample = cl.Buffer(context, cl.mem_flags.READ_ONLY | cl.mem_flags.COPY_HOST_PTR, hostbuf=h_sample)\n",
    "\n",
    "h_result_pool = np.empty(1 * canales_iniciales).astype(np.float32)\n",
    "d_result_pool = cl.Buffer(context, cl.mem_flags.WRITE_ONLY, h_result_pool.nbytes)\n",
    "\n",
    "tic3 = pc()\n",
    "\n",
    "avgpool_ST(queue, (1, ), None, d_sample, d_result_pool)\n",
    "\n",
    "queue.finish()\n",
    "\n",
    "cl.enqueue_copy(queue, h_result_pool, d_result_pool)\n",
    "\n",
    "queue.finish()\n",
    "\n",
    "veamos1 = h_result_pool\n",
    "\n",
    "rtime1 = pc() - tic3\n"
   ]
  },
  {
   "cell_type": "code",
   "execution_count": 18,
   "metadata": {
    "tags": []
   },
   "outputs": [
    {
     "name": "stdout",
     "output_type": "stream",
     "text": [
      "tiempo en segundos con pytorch=  0.00029363300001250536\n",
      "tiempo en segundos con opencl (NDRANGE)= 0.038883693000002495\n",
      "tiempo en segundos con opencl (Simple Task)= 0.016399748000026193\n",
      "comparativa (pytorch == NDRange):  True\n",
      "comparativa (pytorch == Simple Task):  True\n",
      "comparativa (NDRange == Simple Task):  True\n"
     ]
    }
   ],
   "source": [
    "print (\"tiempo en segundos con pytorch= \", toc-tic)\n",
    "print (\"tiempo en segundos con opencl (NDRANGE)=\",rtime)\n",
    "print (\"tiempo en segundos con opencl (Simple Task)=\",rtime1)\n",
    "\n",
    "comparativa1=np.allclose(salida1_a_numpy.reshape(-1), veamos,rtol=1e-01, atol=1e-01)\n",
    "comparativa2=np.allclose(salida1_a_numpy.reshape(-1), veamos1,rtol=1e-01, atol=1e-01)\n",
    "comparativa3=np.allclose(veamos, veamos1,rtol=1e-01, atol=1e-01)\n",
    "\n",
    "print(\"comparativa (pytorch == NDRange): \",comparativa1)\n",
    "print(\"comparativa (pytorch == Simple Task): \",comparativa2)\n",
    "print(\"comparativa (NDRange == Simple Task): \",comparativa3)"
   ]
  },
  {
   "cell_type": "code",
   "execution_count": 19,
   "metadata": {
    "tags": []
   },
   "outputs": [],
   "source": [
    "for i in range(canales_iniciales):\n",
    "    if ((salida1_a_numpy.reshape(-1)[i] - veamos1[i])) > 1e-01:\n",
    "        print(\"i:\", i, salida1_a_numpy.reshape(-1)[i], veamos1[i])"
   ]
  },
  {
   "cell_type": "markdown",
   "metadata": {
    "tags": []
   },
   "source": [
    "#### Step 4: simulación\n",
    "Creat & build program"
   ]
  },
  {
   "cell_type": "code",
   "execution_count": 20,
   "metadata": {},
   "outputs": [
    {
     "data": {
      "text/plain": [
       "<pyopencl.Context at 0x87584d0 on <pyopencl.Device 'SimulatorDevice : Multi-process Simulator (aclmsim0)' on 'Intel(R) FPGA SDK for OpenCL(TM)' at 0x7f17bb23c0d8>>"
      ]
     },
     "execution_count": 20,
     "metadata": {},
     "output_type": "execute_result"
    }
   ],
   "source": [
    "platforms = cl.get_platforms()\n",
    "context = cl.Context(\n",
    "        dev_type=cl.device_type.ALL,\n",
    "        properties=[(cl.context_properties.PLATFORM, platforms[2])])\n",
    "device = platforms[2].get_devices()\n",
    "\n",
    "queue = cl.CommandQueue(context)\n",
    "\n",
    "context"
   ]
  },
  {
   "cell_type": "code",
   "execution_count": 21,
   "metadata": {
    "scrolled": true,
    "tags": []
   },
   "outputs": [],
   "source": [
    "wksp = '../device/v1.3/avgpool/bin_sim/'\n",
    "\n",
    "file_dir = wksp + 'avgpool_NDRange.aocx'\n",
    "\n",
    "kernelSource = open(file_dir, mode='rb').read()\n",
    "program_NDR = cl.Program(context, device, [kernelSource]).build()\n",
    "\n",
    "file_dir = wksp + 'avgpool_ST.aocx'\n",
    "\n",
    "kernelSource = open(file_dir, mode='rb').read()\n",
    "program_ST = cl.Program(context, device, [kernelSource]).build()"
   ]
  },
  {
   "cell_type": "markdown",
   "metadata": {},
   "source": [
    "Creat kernels"
   ]
  },
  {
   "cell_type": "code",
   "execution_count": 22,
   "metadata": {
    "tags": []
   },
   "outputs": [],
   "source": [
    "avgpool_NDR = program_NDR.avgpool2d\n",
    "avgpool_NDR.set_scalar_arg_dtypes([None, None])\n",
    "\n",
    "avgpool_ST = program_ST.avgpool2d\n",
    "avgpool_ST.set_scalar_arg_dtypes([None, None])\n"
   ]
  },
  {
   "cell_type": "markdown",
   "metadata": {},
   "source": [
    "Run OpenCL implement  "
   ]
  },
  {
   "cell_type": "code",
   "execution_count": 23,
   "metadata": {},
   "outputs": [],
   "source": [
    "tamanyo=13 #input_size\n",
    "canales_iniciales=5 #input_channels\n",
    "\n",
    "acumulado_pytorch=0\n",
    "\n",
    "imagen = np.random.randint(10,size=(1,canales_iniciales, tamanyo, tamanyo)).astype(np.float32)\n",
    "#imagen = np.ones((1,canales_iniciales, tamanyo, tamanyo)).astype(np.float32)\n",
    "\n",
    "tic=pc()\n",
    "\n",
    "avgpool = nn.AvgPool2d(tamanyo)\n",
    "imagen1  = torch.from_numpy(imagen).float()\n",
    "    \n",
    "salida1 = avgpool(imagen1)\n",
    "    \n",
    "salida1_a_numpy=salida1.detach().numpy()\n",
    "\n",
    "toc=pc()\n",
    "acumulado_pytorch=toc-tic+acumulado_pytorch\n",
    "\n",
    "####### OPENCL COMPARISON #######\n"
   ]
  },
  {
   "cell_type": "code",
   "execution_count": 24,
   "metadata": {},
   "outputs": [],
   "source": [
    "# NDRANGE\n",
    "\n",
    "h_sample = imagen.reshape(-1).astype(np.float32)\n",
    "d_sample = cl.Buffer(context, cl.mem_flags.READ_ONLY | cl.mem_flags.COPY_HOST_PTR, hostbuf=h_sample)\n",
    "\n",
    "h_result_pool1 = np.empty(1 * canales_iniciales).astype(np.float32)\n",
    "d_result_pool = cl.Buffer(context, cl.mem_flags.WRITE_ONLY, h_result_pool1.nbytes)\n",
    "\n",
    "tic2 = pc()\n",
    "\n",
    "avgpool_NDR(queue,(canales_iniciales, ), None, d_sample, d_result_pool)\n",
    "\n",
    "queue.finish()\n",
    "\n",
    "cl.enqueue_copy(queue, h_result_pool1, d_result_pool)\n",
    "\n",
    "queue.finish()\n",
    "\n",
    "veamos = h_result_pool1\n",
    "\n",
    "rtime = pc() - tic2\n"
   ]
  },
  {
   "cell_type": "code",
   "execution_count": 25,
   "metadata": {},
   "outputs": [],
   "source": [
    "# Simple task\n",
    "\n",
    "h_sample = imagen.reshape(-1).astype(np.float32)\n",
    "d_sample = cl.Buffer(context, cl.mem_flags.READ_ONLY | cl.mem_flags.COPY_HOST_PTR, hostbuf=h_sample)\n",
    "\n",
    "h_result_pool = np.empty(1 * canales_iniciales).astype(np.float32)\n",
    "d_result_pool = cl.Buffer(context, cl.mem_flags.WRITE_ONLY, h_result_pool.nbytes)\n",
    "\n",
    "tic3 = pc()\n",
    "\n",
    "avgpool_ST(queue, (1, ), None, d_sample, d_result_pool)\n",
    "\n",
    "queue.finish()\n",
    "\n",
    "cl.enqueue_copy(queue, h_result_pool, d_result_pool)\n",
    "\n",
    "queue.finish()\n",
    "\n",
    "veamos1 = h_result_pool\n",
    "\n",
    "rtime1 = pc() - tic3\n"
   ]
  },
  {
   "cell_type": "code",
   "execution_count": 26,
   "metadata": {
    "tags": []
   },
   "outputs": [
    {
     "name": "stdout",
     "output_type": "stream",
     "text": [
      "tiempo en segundos con pytorch=  0.00020385800002031829\n",
      "tiempo en segundos con opencl (NDRANGE)= 36.82859126200003\n",
      "tiempo en segundos con opencl (Simple Task)= 314.430635665\n",
      "comparativa (pytorch == NDRange):  True\n",
      "comparativa (pytorch == Simple Task):  True\n",
      "comparativa (NDRange == Simple Task):  True\n"
     ]
    }
   ],
   "source": [
    "print (\"tiempo en segundos con pytorch= \", toc-tic)\n",
    "print (\"tiempo en segundos con opencl (NDRANGE)=\",rtime)\n",
    "print (\"tiempo en segundos con opencl (Simple Task)=\",rtime1)\n",
    "\n",
    "comparativa1=np.allclose(salida1_a_numpy.reshape(-1), veamos,rtol=1e-01, atol=1e-01)\n",
    "comparativa2=np.allclose(salida1_a_numpy.reshape(-1), veamos1,rtol=1e-01, atol=1e-01)\n",
    "comparativa3=np.allclose(veamos, veamos1,rtol=1e-01, atol=1e-01)\n",
    "\n",
    "print(\"comparativa (pytorch == NDRange): \",comparativa1)\n",
    "print(\"comparativa (pytorch == Simple Task): \",comparativa2)\n",
    "print(\"comparativa (NDRange == Simple Task): \",comparativa3)"
   ]
  },
  {
   "cell_type": "code",
   "execution_count": 14,
   "metadata": {
    "tags": []
   },
   "outputs": [
    {
     "name": "stdout",
     "output_type": "stream",
     "text": [
      "pytorch (8, 2, 2) [8. 7.]\n",
      "NDRange [8. 7.]\n",
      "Simple task [8. 7.]\n",
      "True\n"
     ]
    }
   ],
   "source": [
    "print(\"pytorch\", veamos.shape, salida1_a_numpy[0][0][0])\n",
    "print(\"NDRange\", veamos[0][0])\n",
    "print(\"Simple task\", veamos1[0][0])\n",
    "#print(imagen.shape, np.allclose(imagen, np.ones((1,canales_iniciales, tamanyo, tamanyo)).astype(np.float32), rtol=1e-01, atol=1e-01))\n",
    "#print(weights1[6])\n",
    "# print(fire1_squeeze_weight)\n",
    "#print(bias1[6])\n",
    "# print(imagen1_obtenida)\n",
    "# print(veamos2)\n",
    "print(np.allclose(salida1_a_numpy, veamos1,rtol=1e-01, atol=1e-01))"
   ]
  },
  {
   "cell_type": "code",
   "execution_count": 41,
   "metadata": {
    "tags": []
   },
   "outputs": [
    {
     "name": "stderr",
     "output_type": "stream",
     "text": [
      "Fatal: vsim caught SIGTERM. Closing vsimk kernel.\n",
      "Error: The simulator's process ended unexpectedly. Check /home/joerock/Documents/TFM/Quartus_Sim-Em/Squeezenet/pyopencl/transcript.log for details.\n"
     ]
    }
   ],
   "source": [
    "for i in range(canales_iniciales):\n",
    "    if ((salida1_a_numpy.reshape(-1)[i] - veamos1[i])) > 1e-01:\n",
    "        print(\"i:\", i, salida1_a_numpy.reshape(-1)[i], veamos1[i])"
   ]
  },
  {
   "cell_type": "code",
   "execution_count": null,
   "metadata": {},
   "outputs": [],
   "source": []
  }
 ],
 "metadata": {
  "kernelspec": {
   "display_name": "Python 3 (ipykernel)",
   "language": "python",
   "name": "python3"
  },
  "language_info": {
   "codemirror_mode": {
    "name": "ipython",
    "version": 3
   },
   "file_extension": ".py",
   "mimetype": "text/x-python",
   "name": "python",
   "nbconvert_exporter": "python",
   "pygments_lexer": "ipython3",
   "version": "3.8.16"
  }
 },
 "nbformat": 4,
 "nbformat_minor": 4
}
