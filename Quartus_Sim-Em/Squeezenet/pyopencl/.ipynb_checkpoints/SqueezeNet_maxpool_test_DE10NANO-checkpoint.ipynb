{
 "cells": [
  {
   "cell_type": "markdown",
   "metadata": {},
   "source": [
    "# Debug SqueezeNet v1.3 (Simple Task) OpenCL implement with PyOpenCL and PyTorch\n",
    "Partial code are copied heavily from https://github.com/pytorch/vision/blob/master/torchvision/models/squeezenet.py  \n",
    "SqueezeNet Paper:https://arxiv.org/abs/1602.07360  \n",
    "SqueezeNet 1.1 model from https://github.com/DeepScale/SqueezeNet/tree/master/SqueezeNet_v1.1   \n",
    "SqueezeNet 1.1 has 2.4x less computation and slightly fewer parameters than SqueezeNet 1.0, without sacrificing accuracy.\n",
    "\n",
    "TEST DE IMPLEMENTACIÓN MAXPOOL 3x3 stride = 2"
   ]
  },
  {
   "cell_type": "code",
   "execution_count": 1,
   "metadata": {
    "tags": []
   },
   "outputs": [],
   "source": [
    "#some set up\n",
    "import os\n",
    "import numpy as np\n",
    "import torch\n",
    "import torch.nn as nn\n",
    "import torch.nn.parallel\n",
    "import torch.backends.cudnn as cudnn\n",
    "from torch.autograd import Variable\n",
    "import torch.utils.data\n",
    "import torchvision.transforms as transforms\n",
    "import torchvision.datasets as datasets\n",
    "from PIL import Image\n",
    "import math\n",
    "import time\n",
    "from time import sleep, perf_counter as pc\n",
    "from matplotlib.pyplot import imshow\n",
    "%matplotlib inline"
   ]
  },
  {
   "cell_type": "code",
   "execution_count": 2,
   "metadata": {
    "tags": []
   },
   "outputs": [],
   "source": [
    "# OpenCL setup\n",
    "import pyopencl as cl\n",
    "import sys\n",
    "sys.path.append('../python_common')\n",
    "import deviceinfo\n",
    "from time import time\n",
    "\n",
    "#wksp = '../device/v1.3/conv3x3'\n"
   ]
  },
  {
   "cell_type": "markdown",
   "metadata": {},
   "source": [
    "## Veamos ahora solo conv3x3 con opencl"
   ]
  },
  {
   "cell_type": "markdown",
   "metadata": {},
   "source": [
    "#### Step1: OpenCL preparation"
   ]
  },
  {
   "cell_type": "code",
   "execution_count": 3,
   "metadata": {
    "scrolled": true
   },
   "outputs": [
    {
     "data": {
      "text/plain": [
       "<pyopencl.Context at 0x-465c3138 on <pyopencl.Device 'de10_nano_sharedonly : Cyclone V SoC Development Kit' on 'Intel(R) FPGA SDK for OpenCL(TM)' at 0x-5b0db690>>"
      ]
     },
     "execution_count": 3,
     "metadata": {},
     "output_type": "execute_result"
    }
   ],
   "source": [
    "## Devices and compute context\n",
    "platforms = cl.get_platforms()\n",
    "context = cl.Context(\n",
    "        dev_type=cl.device_type.ALL,\n",
    "        properties=[(cl.context_properties.PLATFORM, platforms[0])])\n",
    "device = platforms[0].get_devices()\n",
    "\n",
    "# Create a command queue\n",
    "queue = cl.CommandQueue(context)\n",
    "\n",
    "context"
   ]
  },
  {
   "cell_type": "markdown",
   "metadata": {
    "tags": []
   },
   "source": [
    "#### Step 2: creat kernels\n",
    "Creat & build program"
   ]
  },
  {
   "cell_type": "markdown",
   "metadata": {},
   "source": [
    "Create kernels"
   ]
  },
  {
   "cell_type": "code",
   "execution_count": 4,
   "metadata": {
    "scrolled": true,
    "tags": []
   },
   "outputs": [
    {
     "name": "stderr",
     "output_type": "stream",
     "text": [
      "Reprogramming device [0] with handle 1\n",
      "/usr/local/lib/python3.8/site-packages/pyopencl-2022.2.4-py3.8-linux-armv7l.egg/pyopencl/__init__.py:270: CompilerWarning: Non-empty compiler output encountered. Set the environment variable PYOPENCL_COMPILER_OUTPUT=1 to see more.\n",
      "  warn(\"Non-empty compiler output encountered. Set the \"\n"
     ]
    }
   ],
   "source": [
    "wksp = ''\n",
    "\n",
    "file_dir = wksp + 'maxpool_NDRange.aocx'\n",
    "\n",
    "kernelSource = open(file_dir, mode='rb').read()\n",
    "program_NDR = cl.Program(context, device, [kernelSource]).build()\n",
    "\n",
    "file_dir = wksp + 'maxpool_ST.aocx'\n",
    "\n",
    "kernelSource = open(file_dir, mode='rb').read()\n",
    "program_ST = cl.Program(context, device, [kernelSource]).build()"
   ]
  },
  {
   "cell_type": "markdown",
   "metadata": {},
   "source": [
    "Creat kernels"
   ]
  },
  {
   "cell_type": "code",
   "execution_count": 5,
   "metadata": {
    "tags": []
   },
   "outputs": [],
   "source": [
    "maxpool_NDR = program_NDR.maxpool2d\n",
    "maxpool_NDR.set_scalar_arg_dtypes([np.int32, np.int32, None, None])\n",
    "\n",
    "maxpool_ST = program_ST.maxpool2d\n",
    "maxpool_ST.set_scalar_arg_dtypes([np.int32, np.int32, np.int32, None, None])\n"
   ]
  },
  {
   "cell_type": "markdown",
   "metadata": {
    "tags": []
   },
   "source": [
    "##### OpenCL kernel: maxpool_NDRange.cl\n",
    "\n",
    "maxpool2d: 2-D 3x3 maxpool stride 2.  \n",
    "\n",
    "```C\n",
    "//maxPool2d \n",
    "//kernel_size=3 stride=2\n",
    "//output one feature map per kernel\n",
    "__kernel void maxpool2d(\n",
    "\tconst int input_size,\n",
    "\tconst int output_size,\n",
    "\t__global const float* restrict input_im,\n",
    "    __global float* restrict output_im)\n",
    "{\n",
    "\tint channels = get_global_id(0);//get output channel index\n",
    "\t\n",
    "\tinput_im += channels * input_size * input_size;\n",
    "\toutput_im += channels * output_size * output_size;\n",
    "\n",
    "\t//loop over output feature map\n",
    "\tfor(int i = 0; i < output_size; i++)//row\n",
    "\t{\n",
    "\t\tfor(int j = 0; j < output_size; j++)//col\n",
    "\t\t{\n",
    "\t\t\t//find the max value in 3x3 reigon \n",
    "\t\t\t//to be one element in the output feature map\n",
    "\t\t\tfloat tmp = 0.0;\n",
    "\n",
    "\t\t\t#pragma unroll 1\n",
    "\t\t\tfor(int k = 0; k < 3; k++)//row\n",
    "\t\t\t{\n",
    "\t\t\t\t#pragma unroll 1\n",
    "\t\t\t\tfor(int l = 0; l < 3; l++)//col\n",
    "\t\t\t\t{\n",
    "\t\t\t\t\tfloat value = input_im[(i * 2 + k) * input_size  + j * 2 + l ];\n",
    "\t\t\t\t\tif(value > tmp)\n",
    "\t\t\t\t\t\ttmp = value;\n",
    "\t\t\t\t}\n",
    "\t\t\t}\n",
    "\t\t\t//store the result to output feature map\n",
    "\t\t\toutput_im[i * output_size + j] = tmp; \n",
    "\t\t}\n",
    "\t}\n",
    "}\n",
    "```\n",
    "#### OpenCL kernel: maxpool_ST.cl\n",
    "\n",
    "maxpool2d: 2-D 3x3 maxpool stride 2. \n",
    "\n",
    "```C\n",
    "//maxPool2d \n",
    "//kernel_size=3 stride=2\n",
    "//output one feature map per kernel\n",
    "__kernel void maxpool2d(\n",
    "\tconst int input_size,\n",
    "\tconst int output_size,\n",
    "    const int channel_size,\n",
    "\t__global const float* restrict input_im,\n",
    "    __global float* restrict output_im)\n",
    "{\n",
    "\n",
    "    for(int channel_index = 0; channel_index < channel_size; channel_index++)\n",
    "    {\n",
    "        //loop over output feature map\n",
    "        for(int i = 0; i < output_size; i++)//row\n",
    "        {\n",
    "            for(int j = 0; j < output_size; j++)//col\n",
    "            {\n",
    "                //find the max value in 3x3 reigon \n",
    "                //to be one element in the output feature map\n",
    "                float tmp = 0.0;\n",
    "\n",
    "                #pragma unroll 1\n",
    "                for(int k = 0; k < 3; k++)//row\n",
    "                {\n",
    "                    #pragma unroll 1\n",
    "                    for(int l = 0; l < 3; l++)//col\n",
    "                    {\n",
    "                        float value = input_im[(i * 2 + k) * input_size  + j * 2 + l ];\n",
    "                        if(value > tmp)\n",
    "                            tmp = value;\n",
    "                    }\n",
    "                }\n",
    "                //store the result to output feature map\n",
    "                output_im[i * output_size + j] = tmp;\n",
    "            }\n",
    "        }\n",
    "    \n",
    "        input_im += input_size * input_size;\n",
    "        output_im += output_size * output_size;\n",
    "    }\n",
    "}\n",
    "```"
   ]
  },
  {
   "cell_type": "markdown",
   "metadata": {},
   "source": [
    "Run OpenCL implement  "
   ]
  },
  {
   "cell_type": "code",
   "execution_count": 6,
   "metadata": {},
   "outputs": [],
   "source": [
    "tamanyo=113 #input_size\n",
    "canales_iniciales=64 #input_channels\n",
    "canales_finales = canales_iniciales\n",
    "tamanyo_final = np.int32((tamanyo - 3 + 2 ) / 2)\n",
    "\n",
    "acumulado_pytorch=0\n",
    "\n",
    "imagen = np.random.randint(10,size=(1,canales_iniciales, tamanyo, tamanyo)).astype(np.float32)\n",
    "#imagen = np.ones((1,canales_contraidos, tamanyo, tamanyo)).astype(np.float32)\n",
    "\n",
    "tic=pc()\n",
    "\n",
    "maxpool = nn.MaxPool2d(3, stride=2)\n",
    "imagen1  = torch.from_numpy(imagen).float()\n",
    "    \n",
    "salida1 = maxpool(imagen1)\n",
    "    \n",
    "salida1_a_numpy=salida1.detach().numpy()\n",
    "\n",
    "toc=pc()\n",
    "acumulado_pytorch=toc-tic+acumulado_pytorch\n",
    "\n",
    "####### OPENCL COMPARISON #######\n"
   ]
  },
  {
   "cell_type": "code",
   "execution_count": 14,
   "metadata": {},
   "outputs": [],
   "source": [
    "# NDRANGE\n",
    "\n",
    "h_sample = imagen.reshape(-1).astype(np.float32)\n",
    "d_sample = cl.Buffer(context, cl.mem_flags.READ_ONLY | cl.mem_flags.COPY_HOST_PTR, hostbuf=h_sample)\n",
    "\n",
    "h_result_pool = np.empty(1 * canales_iniciales * tamanyo_final * tamanyo_final).astype(np.float32)\n",
    "d_result_pool = cl.Buffer(context, cl.mem_flags.WRITE_ONLY, h_result_pool.nbytes)\n",
    "\n",
    "tic2 = pc()\n",
    "\n",
    "maxpool_NDR(queue,(canales_iniciales, ), None, tamanyo, tamanyo_final, d_sample, d_result_pool)\n",
    "\n",
    "queue.finish()\n",
    "\n",
    "cl.enqueue_copy(queue, h_result_pool, d_result_pool)\n",
    "\n",
    "queue.finish()\n",
    "\n",
    "veamos = h_result_pool.reshape(-1, tamanyo_final, tamanyo_final)\n",
    "\n",
    "rtime = pc() - tic2\n"
   ]
  },
  {
   "cell_type": "code",
   "execution_count": 17,
   "metadata": {},
   "outputs": [],
   "source": [
    "# Simple task\n",
    "\n",
    "h_sample = imagen.reshape(-1).astype(np.float32)\n",
    "d_sample = cl.Buffer(context, cl.mem_flags.READ_ONLY | cl.mem_flags.COPY_HOST_PTR, hostbuf=h_sample)\n",
    "\n",
    "h_result_pool = np.empty(1 * canales_iniciales * tamanyo_final * tamanyo_final).astype(np.float32)\n",
    "d_result_pool = cl.Buffer(context, cl.mem_flags.WRITE_ONLY, h_result_pool.nbytes)\n",
    "\n",
    "tic3 = pc()\n",
    "\n",
    "maxpool_ST(queue, (1, ), None, tamanyo, tamanyo_final, canales_iniciales, d_sample, d_result_pool)\n",
    "\n",
    "queue.finish()\n",
    "\n",
    "cl.enqueue_copy(queue, h_result_pool, d_result_pool)\n",
    "\n",
    "queue.finish()\n",
    "\n",
    "veamos1 = h_result_pool.reshape(-1, tamanyo_final, tamanyo_final)\n",
    "\n",
    "rtime1 = pc() - tic3\n"
   ]
  },
  {
   "cell_type": "code",
   "execution_count": 11,
   "metadata": {
    "tags": []
   },
   "outputs": [
    {
     "name": "stdout",
     "output_type": "stream",
     "text": [
      "tiempo en segundos con pytorch=  0.05555460599998696\n",
      "tiempo en segundos con opencl (NDRANGE)= 0.04587164899976415\n",
      "tiempo en segundos con opencl (Simple Task)= 0.03300632400032555\n",
      "comparativa (pytorch == NDRange):  True\n",
      "comparativa (pytorch == Simple Task):  True\n",
      "comparativa (NDRange == Simple Task):  True\n"
     ]
    }
   ],
   "source": [
    "print (\"tiempo en segundos con pytorch= \", toc-tic)\n",
    "print (\"tiempo en segundos con opencl (NDRANGE)=\",rtime)\n",
    "print (\"tiempo en segundos con opencl (Simple Task)=\",rtime1)\n",
    "\n",
    "comparativa1=np.allclose(salida1_a_numpy, veamos,rtol=1e-01, atol=1e-01)\n",
    "comparativa2=np.allclose(salida1_a_numpy, veamos1,rtol=1e-01, atol=1e-01)\n",
    "comparativa3=np.allclose(veamos, veamos1,rtol=1e-01, atol=1e-01)\n",
    "\n",
    "print(\"comparativa (pytorch == NDRange): \",comparativa1)\n",
    "print(\"comparativa (pytorch == Simple Task): \",comparativa2)\n",
    "print(\"comparativa (NDRange == Simple Task): \",comparativa3)"
   ]
  },
  {
   "cell_type": "code",
   "execution_count": 12,
   "metadata": {
    "tags": []
   },
   "outputs": [],
   "source": [
    "for i in range(canales_iniciales):\n",
    "    for j in range(tamanyo_final):\n",
    "        for k in range(tamanyo_final):\n",
    "            if (abs(salida1_a_numpy.reshape(-1,tamanyo_final,tamanyo_final)[i][j][k] - veamos1[i][j][k])) > 1e-01:\n",
    "                print(\"i:\", i, \"j:\", j, \"k:\", k, salida1_a_numpy.reshape(-1,tamanyo_final,tamanyo_final)[i][j][k], veamos1[i][j][k])"
   ]
  },
  {
   "cell_type": "code",
   "execution_count": 15,
   "metadata": {},
   "outputs": [
    {
     "name": "stdout",
     "output_type": "stream",
     "text": [
      "tiempo en segundos con pytorch=  0.05174941249002132\n",
      "tiempo en segundos con opencl (NDRange)= 0.04399831712999457\n",
      "comparativa (pytorch == NDRange):  True\n"
     ]
    }
   ],
   "source": [
    "tamanyo=113 #input_size\n",
    "canales_iniciales=64 #input_channels\n",
    "canales_finales = canales_iniciales\n",
    "tamanyo_final = np.int32((tamanyo - 3 + 2 ) / 2)\n",
    "\n",
    "count = 100\n",
    "\n",
    "acumulado_pytorch=0\n",
    "acumulado_kernel=0\n",
    "comparativa4 = True\n",
    "\n",
    "for i in range(count):\n",
    "    imagen = np.random.randint(10,size=(1,canales_iniciales, tamanyo, tamanyo)).astype(np.float32)\n",
    "    #imagen = np.ones((1,canales_contraidos, tamanyo, tamanyo)).astype(np.float32)\n",
    "    \n",
    "    tic=pc()\n",
    "\n",
    "    maxpool = nn.MaxPool2d(3, stride=2)\n",
    "    imagen1  = torch.from_numpy(imagen).float()\n",
    "\n",
    "    salida1 = maxpool(imagen1)\n",
    "\n",
    "    salida1_a_numpy=salida1.detach().numpy()\n",
    "\n",
    "    toc=pc()\n",
    "    acumulado_pytorch=toc-tic+acumulado_pytorch\n",
    "    \n",
    "    ####### OPENCL COMPARISON #######\n",
    "    \n",
    "    h_sample = imagen.reshape(-1).astype(np.float32)\n",
    "    d_sample = cl.Buffer(context, cl.mem_flags.READ_ONLY | cl.mem_flags.COPY_HOST_PTR, hostbuf=h_sample)\n",
    "\n",
    "    h_result_pool = np.empty(1 * canales_iniciales * tamanyo_final * tamanyo_final).astype(np.float32)\n",
    "    d_result_pool = cl.Buffer(context, cl.mem_flags.WRITE_ONLY, h_result_pool.nbytes)\n",
    "    \n",
    "    tic5 = pc()\n",
    "\n",
    "    maxpool_NDR(queue,(canales_iniciales, ), None, tamanyo, tamanyo_final, d_sample, d_result_pool)\n",
    "\n",
    "    queue.finish()\n",
    "\n",
    "    cl.enqueue_copy(queue, h_result_pool, d_result_pool)\n",
    "\n",
    "    queue.finish()\n",
    "\n",
    "    veamos3 = h_result_pool.reshape(-1, tamanyo_final, tamanyo_final)\n",
    "    \n",
    "    toc5 = pc()\n",
    "\n",
    "    acumulado_kernel = toc5 - tic5 + acumulado_kernel\n",
    "    \n",
    "    comparativa4 &= np.allclose(salida1_a_numpy, veamos3,rtol=1e-01, atol=1e-01)\n",
    "    \n",
    "print (\"tiempo en segundos con pytorch= \", acumulado_pytorch/count)\n",
    "print (\"tiempo en segundos con opencl (NDRange)=\",acumulado_kernel/count)\n",
    "\n",
    "print(\"comparativa (pytorch == NDRange): \",comparativa4)"
   ]
  },
  {
   "cell_type": "code",
   "execution_count": 18,
   "metadata": {},
   "outputs": [
    {
     "name": "stdout",
     "output_type": "stream",
     "text": [
      "tiempo en segundos con pytorch=  0.05108882825000819\n",
      "tiempo en segundos con opencl (Simple Task)= 0.028037996070006555\n",
      "comparativa (pytorch == Simple Task):  True\n"
     ]
    }
   ],
   "source": [
    "tamanyo=113 #input_size\n",
    "canales_iniciales=64 #input_channels\n",
    "canales_finales = canales_iniciales\n",
    "tamanyo_final = np.int32((tamanyo - 3 + 2 ) / 2)\n",
    "\n",
    "count = 100\n",
    "\n",
    "acumulado_pytorch=0\n",
    "acumulado_kernel=0\n",
    "comparativa4 = True\n",
    "\n",
    "for i in range(count):\n",
    "    imagen = np.random.randint(10,size=(1,canales_iniciales, tamanyo, tamanyo)).astype(np.float32)\n",
    "    #imagen = np.ones((1,canales_contraidos, tamanyo, tamanyo)).astype(np.float32)\n",
    "    \n",
    "    tic=pc()\n",
    "\n",
    "    maxpool = nn.MaxPool2d(3, stride=2)\n",
    "    imagen1  = torch.from_numpy(imagen).float()\n",
    "\n",
    "    salida1 = maxpool(imagen1)\n",
    "\n",
    "    salida1_a_numpy=salida1.detach().numpy()\n",
    "\n",
    "    toc=pc()\n",
    "    acumulado_pytorch=toc-tic+acumulado_pytorch\n",
    "    \n",
    "    ####### OPENCL COMPARISON #######\n",
    "    \n",
    "    h_sample = imagen.reshape(-1).astype(np.float32)\n",
    "    d_sample = cl.Buffer(context, cl.mem_flags.READ_ONLY | cl.mem_flags.COPY_HOST_PTR, hostbuf=h_sample)\n",
    "\n",
    "    h_result_pool = np.empty(1 * canales_iniciales * tamanyo_final * tamanyo_final).astype(np.float32)\n",
    "    d_result_pool = cl.Buffer(context, cl.mem_flags.WRITE_ONLY, h_result_pool.nbytes)\n",
    "    \n",
    "    tic5 = pc()\n",
    "\n",
    "    maxpool_ST(queue, (1, ), None, tamanyo, tamanyo_final, canales_iniciales, d_sample, d_result_pool)\n",
    "\n",
    "    queue.finish()\n",
    "\n",
    "    cl.enqueue_copy(queue, h_result_pool, d_result_pool)\n",
    "\n",
    "    queue.finish()\n",
    "\n",
    "    veamos3 = h_result_pool.reshape(-1, tamanyo_final, tamanyo_final)\n",
    "    \n",
    "    toc5 = pc()\n",
    "\n",
    "    acumulado_kernel = toc5 - tic5 + acumulado_kernel\n",
    "    \n",
    "    comparativa4 &= np.allclose(salida1_a_numpy, veamos3,rtol=1e-01, atol=1e-01)\n",
    "    \n",
    "print (\"tiempo en segundos con pytorch= \", acumulado_pytorch/count)\n",
    "print (\"tiempo en segundos con opencl (Simple Task)=\",acumulado_kernel/count)\n",
    "\n",
    "print(\"comparativa (pytorch == Simple Task): \",comparativa4)"
   ]
  },
  {
   "cell_type": "code",
   "execution_count": null,
   "metadata": {},
   "outputs": [],
   "source": []
  }
 ],
 "metadata": {
  "kernelspec": {
   "display_name": "Python 3 (ipykernel)",
   "language": "python",
   "name": "python3"
  },
  "language_info": {
   "codemirror_mode": {
    "name": "ipython",
    "version": 3
   },
   "file_extension": ".py",
   "mimetype": "text/x-python",
   "name": "python",
   "nbconvert_exporter": "python",
   "pygments_lexer": "ipython3",
   "version": "3.8.16"
  }
 },
 "nbformat": 4,
 "nbformat_minor": 4
}
