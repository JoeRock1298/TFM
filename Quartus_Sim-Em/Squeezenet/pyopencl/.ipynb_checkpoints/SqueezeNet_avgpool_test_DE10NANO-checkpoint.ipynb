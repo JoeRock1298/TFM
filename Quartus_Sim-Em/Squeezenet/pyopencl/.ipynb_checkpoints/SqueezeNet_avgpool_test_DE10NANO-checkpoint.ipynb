{
 "cells": [
  {
   "cell_type": "markdown",
   "metadata": {},
   "source": [
    "# Debug SqueezeNet v1.3 (Simple Task) OpenCL implement with PyOpenCL and PyTorch\n",
    "Partial code are copied heavily from https://github.com/pytorch/vision/blob/master/torchvision/models/squeezenet.py  \n",
    "SqueezeNet Paper:https://arxiv.org/abs/1602.07360  \n",
    "SqueezeNet 1.1 model from https://github.com/DeepScale/SqueezeNet/tree/master/SqueezeNet_v1.1   \n",
    "SqueezeNet 1.1 has 2.4x less computation and slightly fewer parameters than SqueezeNet 1.0, without sacrificing accuracy.\n",
    "\n",
    "TEST DE IMPLEMENTACIÓN AVGPOOL 15x15 (capa final)"
   ]
  },
  {
   "cell_type": "code",
   "execution_count": 1,
   "metadata": {
    "tags": []
   },
   "outputs": [],
   "source": [
    "#some set up\n",
    "import os\n",
    "import numpy as np\n",
    "import torch\n",
    "import torch.nn as nn\n",
    "import torch.nn.parallel\n",
    "import torch.backends.cudnn as cudnn\n",
    "from torch.autograd import Variable\n",
    "import torch.utils.data\n",
    "import torchvision.transforms as transforms\n",
    "import torchvision.datasets as datasets\n",
    "from PIL import Image\n",
    "import math\n",
    "import time\n",
    "from time import sleep, perf_counter as pc\n",
    "from matplotlib.pyplot import imshow\n",
    "%matplotlib inline"
   ]
  },
  {
   "cell_type": "code",
   "execution_count": 2,
   "metadata": {
    "tags": []
   },
   "outputs": [],
   "source": [
    "# OpenCL setup\n",
    "import pyopencl as cl\n",
    "import sys\n",
    "sys.path.append('../python_common')\n",
    "import deviceinfo\n",
    "from time import time\n",
    "\n",
    "#wksp = '../device/v1.3/conv3x3'\n"
   ]
  },
  {
   "cell_type": "markdown",
   "metadata": {},
   "source": [
    "## Veamos ahora solo conv3x3 con opencl"
   ]
  },
  {
   "cell_type": "markdown",
   "metadata": {},
   "source": [
    "#### Step1: OpenCL preparation"
   ]
  },
  {
   "cell_type": "code",
   "execution_count": 7,
   "metadata": {
    "scrolled": true
   },
   "outputs": [
    {
     "data": {
      "text/plain": [
       "<pyopencl.Context at 0x-465619f0 on <pyopencl.Device 'de10_nano_sharedonly : Cyclone V SoC Development Kit' on 'Intel(R) FPGA SDK for OpenCL(TM)' at 0x-5b111690>>"
      ]
     },
     "execution_count": 7,
     "metadata": {},
     "output_type": "execute_result"
    }
   ],
   "source": [
    "## Devices and compute context\n",
    "platforms = cl.get_platforms()\n",
    "context = cl.Context(\n",
    "        dev_type=cl.device_type.ALL,\n",
    "        properties=[(cl.context_properties.PLATFORM, platforms[0])])\n",
    "device = platforms[0].get_devices()\n",
    "\n",
    "# Create a command queue\n",
    "queue = cl.CommandQueue(context)\n",
    "\n",
    "context"
   ]
  },
  {
   "cell_type": "markdown",
   "metadata": {
    "tags": []
   },
   "source": [
    "#### Step 2: creat kernels\n",
    "Creat & build program"
   ]
  },
  {
   "cell_type": "markdown",
   "metadata": {},
   "source": [
    "Create kernels"
   ]
  },
  {
   "cell_type": "code",
   "execution_count": 8,
   "metadata": {
    "scrolled": true,
    "tags": []
   },
   "outputs": [
    {
     "name": "stderr",
     "output_type": "stream",
     "text": [
      "Reprogramming device [0] with handle 1\n",
      "/usr/local/lib/python3.8/site-packages/pyopencl-2022.2.4-py3.8-linux-armv7l.egg/pyopencl/__init__.py:270: CompilerWarning: Non-empty compiler output encountered. Set the environment variable PYOPENCL_COMPILER_OUTPUT=1 to see more.\n",
      "  warn(\"Non-empty compiler output encountered. Set the \"\n"
     ]
    }
   ],
   "source": [
    "wksp = ''\n",
    "\n",
    "file_dir = wksp + 'avgpool_NDRange.aocx'\n",
    "\n",
    "kernelSource = open(file_dir, mode='rb').read()\n",
    "program_NDR = cl.Program(context, device, [kernelSource]).build()\n",
    "\n",
    "file_dir = wksp + 'avgpool_ST.aocx'\n",
    "\n",
    "kernelSource = open(file_dir, mode='rb').read()\n",
    "program_ST = cl.Program(context, device, [kernelSource]).build()\n"
   ]
  },
  {
   "cell_type": "markdown",
   "metadata": {},
   "source": [
    "Creat kernels"
   ]
  },
  {
   "cell_type": "code",
   "execution_count": 9,
   "metadata": {
    "tags": []
   },
   "outputs": [],
   "source": [
    "avgpool_NDR = program_NDR.avgpool2d\n",
    "avgpool_NDR.set_scalar_arg_dtypes([None, None])\n",
    "\n",
    "avgpool_ST = program_ST.avgpool2d\n",
    "avgpool_ST.set_scalar_arg_dtypes([None, None])\n"
   ]
  },
  {
   "cell_type": "markdown",
   "metadata": {
    "tags": []
   },
   "source": [
    "#### OpenCL kernel: avgpool_NDRange.cl\n",
    "\n",
    "avgpool2d: 2-D 13x13 average pool for the last layer of the classifier.  \n",
    "\n",
    "```C\n",
    "//last layer use a 13 x 13 avgPool layer as classifier\n",
    "//one class score per kernel\n",
    "__kernel void avgpool2d(\n",
    "\t__global const float* restrict input_im,\n",
    "\t__global float* restrict output_im)\n",
    "{\n",
    "\tint class_index = get_global_id(0);//get class score index\n",
    "\n",
    "\tinput_im += 169 * class_index;\n",
    "\t\n",
    "\tfloat tmp = 0.0f;\n",
    "\n",
    "\tfor(int i = 0; i < 169; i++)\n",
    "\t{\n",
    "\t\ttmp += input_im[i];\n",
    "\t}\n",
    "\n",
    "\toutput_im[class_index] = tmp / 169.0;\n",
    "}\n",
    "```\n",
    "#### OpenCL kernel: avgpool_ST.cl\n",
    "\n",
    "avgpool2d: 2-D 13x13 average pool for the last layer of the classifier. \n",
    "\n",
    "```C\n",
    "//last layer use a 13 x 13 avgPool layer as classifier\n",
    "//one class score per kernel\n",
    "__kernel void avgpool2d(\n",
    "\t__global const float* restrict input_im,\n",
    "\t__global float* restrict output_im)\n",
    "{\n",
    "\t// int class_index = get_global_id(0);//get class score index\n",
    "    \n",
    "    //Since it's the final layer, we know that there are only 1000 classes\n",
    "    \n",
    "\t//input_im += 169 * class_index;\n",
    "\n",
    "\tfor(int class_index = 0; class_index < 1000; class_index++)\n",
    "    {\n",
    "            \n",
    "        float tmp = 0.0f;\n",
    "\n",
    "        for(int i = 0; i < 169; i++)\n",
    "        {\n",
    "            tmp += input_im[class_index * 169 + i];\n",
    "        }\n",
    "\n",
    "        output_im[class_index] = tmp / 169.0;\n",
    "    }\n",
    "}\n",
    "```"
   ]
  },
  {
   "cell_type": "markdown",
   "metadata": {},
   "source": [
    "Run OpenCL implement  "
   ]
  },
  {
   "cell_type": "code",
   "execution_count": 29,
   "metadata": {},
   "outputs": [],
   "source": [
    "tamanyo=13 #input_size\n",
    "canales_iniciales= 1000 #input_channels\n",
    "\n",
    "acumulado_pytorch=0\n",
    "\n",
    "imagen = np.random.randint(10,size=(1,canales_iniciales, tamanyo, tamanyo)).astype(np.float32)\n",
    "#imagen = np.ones((1,canales_iniciales, tamanyo, tamanyo)).astype(np.float32)\n",
    "\n",
    "tic=pc()\n",
    "\n",
    "avgpool = nn.AvgPool2d(tamanyo)\n",
    "imagen1  = torch.from_numpy(imagen).float()\n",
    "    \n",
    "salida1 = avgpool(imagen1)\n",
    "    \n",
    "salida1_a_numpy=salida1.detach().numpy()\n",
    "\n",
    "toc=pc()\n",
    "acumulado_pytorch=toc-tic+acumulado_pytorch\n",
    "\n",
    "####### OPENCL COMPARISON #######\n",
    "\n"
   ]
  },
  {
   "cell_type": "code",
   "execution_count": 55,
   "metadata": {},
   "outputs": [],
   "source": [
    "# NDRANGE\n",
    "\n",
    "h_sample = imagen.reshape(-1).astype(np.float32)\n",
    "d_sample = cl.Buffer(context, cl.mem_flags.READ_ONLY | cl.mem_flags.COPY_HOST_PTR, hostbuf=h_sample)\n",
    "\n",
    "h_result_pool = np.empty(1 * canales_iniciales).astype(np.float32)\n",
    "d_result_pool = cl.Buffer(context, cl.mem_flags.WRITE_ONLY, h_result_pool.nbytes)\n",
    "\n",
    "tic2 = pc()\n",
    "\n",
    "avgpool_NDR(queue,(canales_iniciales, ), None, d_sample, d_result_pool)\n",
    "\n",
    "queue.finish()\n",
    "\n",
    "cl.enqueue_copy(queue, h_result_pool, d_result_pool)\n",
    "\n",
    "queue.finish()\n",
    "\n",
    "veamos = h_result_pool\n",
    "\n",
    "rtime = pc() - tic2\n"
   ]
  },
  {
   "cell_type": "code",
   "execution_count": 48,
   "metadata": {},
   "outputs": [],
   "source": [
    "# Simple task\n",
    "\n",
    "h_sample = imagen.reshape(-1).astype(np.float32)\n",
    "d_sample = cl.Buffer(context, cl.mem_flags.READ_ONLY | cl.mem_flags.COPY_HOST_PTR, hostbuf=h_sample)\n",
    "\n",
    "h_result_pool = np.empty(1 * canales_iniciales).astype(np.float32)\n",
    "d_result_pool = cl.Buffer(context, cl.mem_flags.WRITE_ONLY, h_result_pool.nbytes)\n",
    "\n",
    "tic3 = pc()\n",
    "\n",
    "avgpool_ST(queue, (1, ), None, d_sample, d_result_pool)\n",
    "\n",
    "queue.finish()\n",
    "\n",
    "cl.enqueue_copy(queue, h_result_pool, d_result_pool)\n",
    "\n",
    "queue.finish()\n",
    "\n",
    "veamos1 = h_result_pool\n",
    "\n",
    "rtime1 = pc() - tic3\n"
   ]
  },
  {
   "cell_type": "code",
   "execution_count": 56,
   "metadata": {
    "tags": []
   },
   "outputs": [
    {
     "name": "stdout",
     "output_type": "stream",
     "text": [
      "tiempo en segundos con pytorch=  0.007513587000175903\n",
      "tiempo en segundos con opencl (NDRANGE)= 0.0071161689998007205\n",
      "tiempo en segundos con opencl (Simple Task)= 0.00508749499977057\n",
      "comparativa (pytorch == NDRange):  True\n",
      "comparativa (pytorch == Simple Task):  False\n",
      "comparativa (NDRange == Simple Task):  False\n"
     ]
    }
   ],
   "source": [
    "print (\"tiempo en segundos con pytorch= \", toc-tic)\n",
    "print (\"tiempo en segundos con opencl (NDRANGE)=\",rtime)\n",
    "print (\"tiempo en segundos con opencl (Simple Task)=\",rtime1)\n",
    "\n",
    "comparativa1=np.allclose(salida1_a_numpy.reshape(-1), veamos,rtol=1e-01, atol=1e-01)\n",
    "comparativa2=np.allclose(salida1_a_numpy.reshape(-1), veamos1,rtol=1e-01, atol=1e-01)\n",
    "comparativa3=np.allclose(veamos, veamos1,rtol=1e-01, atol=1e-01)\n",
    "\n",
    "print(\"comparativa (pytorch == NDRange): \",comparativa1)\n",
    "print(\"comparativa (pytorch == Simple Task): \",comparativa2)\n",
    "print(\"comparativa (NDRange == Simple Task): \",comparativa3)"
   ]
  },
  {
   "cell_type": "code",
   "execution_count": 60,
   "metadata": {
    "tags": []
   },
   "outputs": [],
   "source": [
    "for i in range(canales_iniciales):\n",
    "    if ((salida1_a_numpy.reshape(-1)[i] - veamos1[i])) > 1e-01:\n",
    "        print(\"i:\", i, salida1_a_numpy.reshape(-1)[i], veamos1[i])"
   ]
  },
  {
   "cell_type": "code",
   "execution_count": 61,
   "metadata": {
    "jupyter": {
     "source_hidden": true
    },
    "tags": []
   },
   "outputs": [
    {
     "name": "stdout",
     "output_type": "stream",
     "text": [
      "tiempo en segundos con pytorch=  0.003400834379999651\n",
      "tiempo en segundos con opencl (NDRange)= 0.003507062499975291\n",
      "comparativa (pytorch == NDRange):  True\n"
     ]
    }
   ],
   "source": [
    "tamanyo=13 #input_size\n",
    "canales_iniciales=1000 #input_channels\n",
    "\n",
    "count = 100\n",
    "\n",
    "acumulado_pytorch=0\n",
    "acumulado_kernel=0\n",
    "comparativa = True\n",
    "\n",
    "for i in range(count):\n",
    "    imagen = np.random.randint(10,size=(1,canales_iniciales, tamanyo, tamanyo)).astype(np.float32)\n",
    "    #imagen = np.ones((1,canales_iniciales, tamanyo, tamanyo)).astype(np.float32)\n",
    "\n",
    "    tic=pc()\n",
    "\n",
    "    avgpool = nn.AvgPool2d(tamanyo)\n",
    "    imagen1  = torch.from_numpy(imagen).float()\n",
    "\n",
    "    salida1 = avgpool(imagen1)\n",
    "\n",
    "    salida1_a_numpy=salida1.detach().numpy()\n",
    "\n",
    "    toc=pc()\n",
    "    acumulado_pytorch=toc-tic+acumulado_pytorch\n",
    "    \n",
    "    ####### OPENCL COMPARISON #######\n",
    "    \n",
    "    h_sample = imagen.reshape(-1).astype(np.float32)\n",
    "    d_sample = cl.Buffer(context, cl.mem_flags.READ_ONLY | cl.mem_flags.COPY_HOST_PTR, hostbuf=h_sample)\n",
    "\n",
    "    h_result_pool = np.empty(1 * canales_iniciales).astype(np.float32)\n",
    "    d_result_pool = cl.Buffer(context, cl.mem_flags.WRITE_ONLY, h_result_pool.nbytes)\n",
    "\n",
    "    tic5 = pc()\n",
    "\n",
    "    avgpool_NDR(queue,(canales_iniciales, ), None, d_sample, d_result_pool)\n",
    "\n",
    "    queue.finish()\n",
    "\n",
    "    cl.enqueue_copy(queue, h_result_pool, d_result_pool)\n",
    "\n",
    "    queue.finish()\n",
    "\n",
    "    veamos1 = h_result_pool\n",
    "    \n",
    "    toc5 = pc()\n",
    "\n",
    "    acumulado_kernel = toc5 - tic5 + acumulado_kernel\n",
    "    \n",
    "    comparativa &= np.allclose(salida1_a_numpy.reshape(-1), veamos1,rtol=1e-01, atol=1e-01)\n",
    "    \n",
    "print (\"tiempo en segundos con pytorch= \", acumulado_pytorch/count)\n",
    "print (\"tiempo en segundos con opencl (NDRange)=\",acumulado_kernel/count)\n",
    "\n",
    "print(\"comparativa (pytorch == NDRange): \",comparativa)"
   ]
  },
  {
   "cell_type": "code",
   "execution_count": 64,
   "metadata": {},
   "outputs": [
    {
     "name": "stdout",
     "output_type": "stream",
     "text": [
      "tiempo en segundos con pytorch=  0.0033899411500169663\n",
      "tiempo en segundos con opencl (Simple Task)= 0.0027128481899762846\n",
      "comparativa (pytorch == Simple Task):  True\n"
     ]
    }
   ],
   "source": [
    "tamanyo=13 #input_size\n",
    "canales_iniciales=1000 #input_channels\n",
    "\n",
    "count = 100\n",
    "\n",
    "acumulado_pytorch=0\n",
    "acumulado_kernel=0\n",
    "comparativa = True\n",
    "\n",
    "for i in range(count):\n",
    "    imagen = np.random.randint(10,size=(1,canales_iniciales, tamanyo, tamanyo)).astype(np.float32)\n",
    "    #imagen = np.ones((1,canales_iniciales, tamanyo, tamanyo)).astype(np.float32)\n",
    "\n",
    "    tic=pc()\n",
    "\n",
    "    avgpool = nn.AvgPool2d(tamanyo)\n",
    "    imagen1  = torch.from_numpy(imagen).float()\n",
    "\n",
    "    salida1 = avgpool(imagen1)\n",
    "\n",
    "    salida1_a_numpy=salida1.detach().numpy()\n",
    "\n",
    "    toc=pc()\n",
    "    acumulado_pytorch=toc-tic+acumulado_pytorch\n",
    "    \n",
    "    ####### OPENCL COMPARISON #######\n",
    "    \n",
    "    h_sample = imagen.reshape(-1).astype(np.float32)\n",
    "    d_sample = cl.Buffer(context, cl.mem_flags.READ_ONLY | cl.mem_flags.COPY_HOST_PTR, hostbuf=h_sample)\n",
    "\n",
    "    h_result_pool = np.empty(1 * canales_iniciales).astype(np.float32)\n",
    "    d_result_pool = cl.Buffer(context, cl.mem_flags.WRITE_ONLY, h_result_pool.nbytes)\n",
    "\n",
    "    tic5 = pc()\n",
    "\n",
    "    avgpool_ST(queue, (1, ), None, d_sample, d_result_pool)\n",
    "\n",
    "    queue.finish()\n",
    "\n",
    "    cl.enqueue_copy(queue, h_result_pool, d_result_pool)\n",
    "\n",
    "    queue.finish()\n",
    "\n",
    "    veamos1 = h_result_pool\n",
    "    \n",
    "    toc5 = pc()\n",
    "\n",
    "    acumulado_kernel = toc5 - tic5 + acumulado_kernel\n",
    "    \n",
    "    comparativa &= np.allclose(salida1_a_numpy.reshape(-1), veamos1,rtol=1e-01, atol=1e-01)\n",
    "    \n",
    "print (\"tiempo en segundos con pytorch= \", acumulado_pytorch/count)\n",
    "print (\"tiempo en segundos con opencl (Simple Task)=\",acumulado_kernel/count)\n",
    "print(\"comparativa (pytorch == Simple Task): \",comparativa)"
   ]
  },
  {
   "cell_type": "code",
   "execution_count": null,
   "metadata": {},
   "outputs": [],
   "source": []
  }
 ],
 "metadata": {
  "kernelspec": {
   "display_name": "Python 3 (ipykernel)",
   "language": "python",
   "name": "python3"
  },
  "language_info": {
   "codemirror_mode": {
    "name": "ipython",
    "version": 3
   },
   "file_extension": ".py",
   "mimetype": "text/x-python",
   "name": "python",
   "nbconvert_exporter": "python",
   "pygments_lexer": "ipython3",
   "version": "3.8.16"
  }
 },
 "nbformat": 4,
 "nbformat_minor": 4
}
