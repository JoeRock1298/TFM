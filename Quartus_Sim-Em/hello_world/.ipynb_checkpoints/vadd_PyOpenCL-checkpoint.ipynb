{
 "cells": [
  {
   "cell_type": "code",
   "execution_count": 19,
   "id": "cf5cde53-67f6-49b5-89e6-020c5df66ea2",
   "metadata": {},
   "outputs": [],
   "source": [
    "# Import the Python OpenCL API\n",
    "import pyopencl as cl\n",
    "import numpy as np\n",
    "from time import time\n",
    "\n",
    "import sys\n",
    "#sys.path.append('../../Python_common')\n",
    "#import deviceinfo\n",
    "\n",
    "# Setting global variables\n",
    "TOL = 0.001   # tolerance used in floating point comparisons\n",
    "LENGTH = 200 # length of vectors a, b, and c"
   ]
  },
  {
   "cell_type": "markdown",
   "id": "4baac739-70bf-4c24-93c8-8eef47eb0964",
   "metadata": {},
   "source": [
    "### 1. Defining platform (devices + context + queues)"
   ]
  },
  {
   "cell_type": "code",
   "execution_count": 20,
   "id": "f7fed6e9-131e-422b-8461-7feff52ea4a4",
   "metadata": {},
   "outputs": [],
   "source": [
    "## Device memory\n",
    "\n",
    "h_a = np.random.rand(LENGTH).astype(np.float32) # a vector\n",
    "h_b = np.random.rand(LENGTH).astype(np.float32) # b vector\n",
    "h_c = np.empty_like(h_a) # c vector (a+b) returned from the compute device\n",
    "\n",
    "## Devices and compute context\n",
    "# Ask the user to select a platform/device on the CLI\n",
    "context = cl.create_some_context()\n",
    "\n",
    "# Print out device info\n",
    "#deviceinfo.output_device_info(context.devices[0])\n",
    "\n",
    "# Create a command queue\n",
    "queue = cl.CommandQueue(context)"
   ]
  },
  {
   "cell_type": "markdown",
   "id": "fffee3e9-a303-44e0-8243-85390e67e437",
   "metadata": {},
   "source": [
    "### 2. Create and build program (dynamic library for kernels)"
   ]
  },
  {
   "cell_type": "code",
   "execution_count": 21,
   "id": "b94b52a9-d4dc-4487-b493-1142977ea56f",
   "metadata": {},
   "outputs": [],
   "source": [
    "##  Create the compute program from the source buffer and build it\n",
    "    \n",
    "prg = cl.Program(context, \"\"\"\n",
    "__kernel void vadd(\n",
    "    __global const float *a, \n",
    "    __global const float *b, \n",
    "    __global float *c,\n",
    "    const unsigned int count,\n",
    "    __global int *g_size,\n",
    "    __global int *l_size)\n",
    "{\n",
    "    int i = get_global_id(0);\n",
    "    if(i < count)                                                       \n",
    "        c[i] = a[i] + b[i];\n",
    "    if(i == 0)\n",
    "    {\n",
    "        g_size[0] = get_global_size(0);\n",
    "        l_size[0] = get_local_size(0);\n",
    "        printf(\"test\");\n",
    "    }\n",
    "}\"\"\").build()\n",
    "\n",
    "\n",
    "#// Create the compute kernel from the program\n",
    "#ko_vadd = clCreateKernel(program, \"vadd\", &err);\n",
    "#checkError(err, \"Creating kernel\");"
   ]
  },
  {
   "cell_type": "markdown",
   "id": "c7b606fb-de7c-4922-8e06-060b3207ab40",
   "metadata": {},
   "source": [
    "### 3. Setup Memory Kernels"
   ]
  },
  {
   "cell_type": "code",
   "execution_count": 22,
   "id": "09c27c5c-0d4b-4969-b4dd-fe0d3016390d",
   "metadata": {},
   "outputs": [],
   "source": [
    "# Create the input (a, b) and output (c) arrays in device memory\n",
    "\n",
    "mf = cl.mem_flags\n",
    "d_a = cl.Buffer(context, mf.READ_ONLY | mf.COPY_HOST_PTR, hostbuf=h_a)\n",
    "d_b = cl.Buffer(context, mf.READ_ONLY | mf.COPY_HOST_PTR, hostbuf=h_b)\n",
    "d_c = cl.Buffer(context, mf.WRITE_ONLY, h_a.nbytes)\n",
    "g_size = np.zeros(1).astype(np.int32)\n",
    "l_size = np.zeros(1).astype(np.int32)\n",
    "\n",
    "d_g_size = cl.Buffer(context, mf.WRITE_ONLY, sys.getsizeof(np.uint32))\n",
    "d_l_size = cl.Buffer(context, mf.WRITE_ONLY, sys.getsizeof(np.uint32))"
   ]
  },
  {
   "cell_type": "markdown",
   "id": "1a1cca4c-a188-43e6-8c2a-1dd5e3786d20",
   "metadata": {},
   "source": [
    "### 4. Define the kernel (attach arguments to kernel function) "
   ]
  },
  {
   "cell_type": "code",
   "execution_count": 23,
   "id": "d7cd2421-c170-413d-87a3-a674d13a2a65",
   "metadata": {},
   "outputs": [],
   "source": [
    "knl = prg.vadd  # Use this Kernel object for repeated calls\n",
    "## Float pointers must be set as None\n",
    "knl.set_scalar_arg_dtypes([None, None, None, np.uint32, None, None])\n"
   ]
  },
  {
   "cell_type": "markdown",
   "id": "83c5d07e-698f-45e5-a84b-57b304bb95c4",
   "metadata": {},
   "source": [
    "### 5. transfer memory objects and execute the kernel"
   ]
  },
  {
   "cell_type": "code",
   "execution_count": 30,
   "id": "d1267740-3b49-436d-a244-eb6186ec2e4d",
   "metadata": {},
   "outputs": [
    {
     "name": "stdout",
     "output_type": "stream",
     "text": [
      "The kernel ran in 0.00017642974853515625 seconds\n"
     ]
    }
   ],
   "source": [
    "rtime = time()\n",
    "# __call__(queue, global_size, local_size, *args, global_offset=None, wait_for=None, g_times_l=False, allow_empty_ndrange=False)\n",
    "knl(queue, h_a.shape, None, d_a, d_b, d_c, np.uint32(LENGTH), d_g_size, d_l_size)\n",
    "\n",
    "queue.finish()\n",
    "rtime = time() - rtime\n",
    "print(\"The kernel ran in\", rtime, \"seconds\")\n"
   ]
  },
  {
   "cell_type": "markdown",
   "id": "d2cb8fbc-a936-42ee-a4ac-c90d1ce63cc3",
   "metadata": {},
   "source": [
    "### 6. Get results and validate them"
   ]
  },
  {
   "cell_type": "code",
   "execution_count": 90,
   "id": "72893934-c056-4ce9-adfe-21dcb9fc58c8",
   "metadata": {},
   "outputs": [
    {
     "name": "stdout",
     "output_type": "stream",
     "text": [
      "C = A+B:  200 out of 200 results were correct.\n",
      "\n",
      "global size obtained is:  8 \n",
      "\n",
      "local size obtained is:  2 \n",
      "\n"
     ]
    }
   ],
   "source": [
    "# Read back the results from the compute device\n",
    "\n",
    "cl.enqueue_copy(queue, h_c, d_c)\n",
    "cl.enqueue_copy(queue, g_size, d_g_size)\n",
    "cl.enqueue_copy(queue, l_size, d_l_size)\n",
    "\n",
    "# Test the results\n",
    "correct = 0\n",
    "\n",
    "for i in range(LENGTH):\n",
    "    tmp = h_a[i] + h_b[i]     # assign element i of a+b to tmp\n",
    "    tmp = tmp - h_c[i];       # compute deviation of expected and output result\n",
    "    \n",
    "    if ((tmp * tmp) < (TOL * TOL)):\n",
    "        correct = correct + 1;\n",
    "    else:\n",
    "        print(\" tmp %f h_a %f h_b %f h_c %f \\n\".format(tmp, h_a[i], h_b[i], h_c[i]))\n",
    "\n",
    "# summarise results\n",
    "\n",
    "print(\"C = A+B:  {} out of {} results were correct.\\n\".format(correct, LENGTH))\n",
    "print(\"global size obtained is:  {} \\n\".format(g_size[0]))\n",
    "print(\"local size obtained is:  {} \\n\".format(l_size[0]))"
   ]
  },
  {
   "cell_type": "markdown",
   "id": "fb9e3149-07a6-418b-82f8-ebe0d4bbcd9a",
   "metadata": {},
   "source": [
    "## Hello World test"
   ]
  },
  {
   "cell_type": "markdown",
   "id": "845a8914-1e4e-4f04-ab91-36c53356150c",
   "metadata": {},
   "source": [
    "### Test to see if simulation/emulation platforms appear"
   ]
  },
  {
   "cell_type": "code",
   "execution_count": 2,
   "id": "f21fa43f-32df-4d22-8188-c39f041180eb",
   "metadata": {
    "tags": []
   },
   "outputs": [],
   "source": [
    "#!/usr/bin/env python\n",
    "\n",
    "import numpy as np\n",
    "import pyopencl as cl\n",
    "import sys\n",
    "\n",
    "platforms = cl.get_platforms()\n",
    "ctx = cl.Context(\n",
    "        dev_type=cl.device_type.ALL,\n",
    "        properties=[(cl.context_properties.PLATFORM, platforms[1])])\n",
    "device = platforms[1].get_devices()"
   ]
  },
  {
   "cell_type": "code",
   "execution_count": 3,
   "id": "72949767-cdbd-420e-a645-6d265122bbb1",
   "metadata": {},
   "outputs": [],
   "source": [
    "platforms, device[0]\n",
    "kernelSource = open(\"bin/hello_world.aocx\", mode='rb')#.read()\n",
    "queue = cl.CommandQueue(ctx)\n",
    "mf = cl.mem_flags\n",
    "id_HelloWorld = np.zeros(1).astype(np.int32)\n",
    "d_id_HelloWorld = cl.Buffer(ctx, mf.WRITE_ONLY, sys.getsizeof(np.uint32))"
   ]
  },
  {
   "cell_type": "code",
   "execution_count": 19,
   "id": "5b04561f-d92d-45f8-b60d-8e88bb3ed5a2",
   "metadata": {},
   "outputs": [
    {
     "name": "stdout",
     "output_type": "stream",
     "text": [
      "Using AOCX: hello_world.aocx\n",
      "\n"
     ]
    }
   ],
   "source": [
    "kernelSource = open(\"bin/hello_world.aocx\", mode='rb').read()\n",
    "prg = cl.Program(ctx, device, [kernelSource]).build()\n",
    "print(\"Using AOCX: hello_world.aocx\\n\")                 \n",
    "               \n",
    "    \n",
    "# Set the kernel argument (argument 0)\n",
    "knl = prg.hello_world\n"
   ]
  },
  {
   "cell_type": "code",
   "execution_count": 26,
   "id": "1bbd1659-6e12-48f4-b017-fee595ef191f",
   "metadata": {},
   "outputs": [
    {
     "name": "stdout",
     "output_type": "stream",
     "text": [
      "\n",
      "Kernel initialization is complete.\n",
      "\n",
      "Launching the kernel...\n",
      "\n",
      "\n",
      "Kernel execution is complete.\n",
      "\n",
      "Thread 7: Hello from the Intel FPGA OpenCL Compiler!\n",
      "\n"
     ]
    }
   ],
   "source": [
    "knl.set_scalar_arg_dtypes([np.uint32, None])\n",
    "\n",
    "wi_2print = 7\n",
    "id_HelloWorld[0] = -1\n",
    "\n",
    "print(\"\\nKernel initialization is complete.\\n\");\n",
    "print(\"Launching the kernel...\\n\");\n",
    "\n",
    "knl(queue, (8,), (8,), wi_2print, d_id_HelloWorld)\n",
    "\n",
    "print(\"\\nKernel execution is complete.\\n\");\n",
    "\n",
    "cl.enqueue_copy(queue, id_HelloWorld, d_id_HelloWorld)\n",
    "\n",
    "print(\"Thread {}: Hello from the Intel FPGA OpenCL Compiler!\\n\".format(id_HelloWorld[0]))"
   ]
  },
  {
   "cell_type": "code",
   "execution_count": null,
   "id": "6fc466dc-77e6-4d91-ae33-0a29bd5505e9",
   "metadata": {},
   "outputs": [],
   "source": []
  }
 ],
 "metadata": {
  "kernelspec": {
   "display_name": "Python 3 (ipykernel)",
   "language": "python",
   "name": "python3"
  },
  "language_info": {
   "codemirror_mode": {
    "name": "ipython",
    "version": 3
   },
   "file_extension": ".py",
   "mimetype": "text/x-python",
   "name": "python",
   "nbconvert_exporter": "python",
   "pygments_lexer": "ipython3",
   "version": "3.8.16"
  }
 },
 "nbformat": 4,
 "nbformat_minor": 5
}
